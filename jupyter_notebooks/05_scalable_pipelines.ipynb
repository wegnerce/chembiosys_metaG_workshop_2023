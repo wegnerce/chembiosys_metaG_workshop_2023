{
 "cells": [
  {
   "cell_type": "markdown",
   "metadata": {},
   "source": [
    "# ChemBioSys and AquaDiva | Genome-resolved metagenomics workshop\n",
    "\n",
    "## Session 06 | Scalable pipelines \n",
    "\n",
    "Date: 18-19 September 2023"
   ]
  },
  {
   "cell_type": "markdown",
   "metadata": {},
   "source": [
    "---\n",
    "### ❓ **Why do we need scalable pipelines?**\n",
    "**Disasdvantages of having stand alone tools:**\n",
    "\n",
    "1. Reproducibility: 💭 Which version did i use?<br>\n",
    "<br>\n",
    "2. Data privacy: 💀 Am i allowed to share that on a 'open server'?<br>\n",
    "<br>\n",
    "3. Efficiency: 💂‍♂️ Large scale input and output?<br>\n",
    "<br>\n",
    "4. Standradisation: 👀 Comparable output?<br>\n",
    "<br>\n",
    "5. Bioinformatics: 😹 Are my coding skills sufficient? Time?\n",
    "\n",
    "---\n"
   ]
  },
  {
   "cell_type": "markdown",
   "metadata": {},
   "source": [
    "### One example of scalable pipelines: [nf-core](https://nf-co.re/)\n",
    "\n",
    "\n",
    "<img src=\"img/nf-core-logo.png\" width=\"500\"/>\n",
    "<font size=\"2\"> \n"
   ]
  },
  {
   "cell_type": "markdown",
   "metadata": {},
   "source": [
    "<img src=\"img/nf-core-fig.png\" width=\"500\"/>\n",
    "<font size=\"2\"> \n",
    "\n",
    "<font size=\"2\">[Ewels et.al. 2020](https://www.nature.com/articles/s41587-020-0439-x)"
   ]
  },
  {
   "cell_type": "markdown",
   "metadata": {},
   "source": [
    "A community effort to collect a curated set of analysis pipelines built using Nextflow to run tasks across multiple compute infrastructure.<br>\n",
    "<br>\n",
    "- Highly optimised pipelines\n",
    "- Portable (docker/singularity/conda)\n",
    "- Extensive documentation provided by the nf-core community\n",
    "- Reproducible due to validated releases and packaged software\n",
    "- Widespread community ready to help\n",
    "- Easy to apply and use\n",
    "\n",
    "---\n",
    "  "
   ]
  },
  {
   "cell_type": "markdown",
   "metadata": {},
   "source": [
    "#### **Pipeline example**"
   ]
  },
  {
   "cell_type": "markdown",
   "metadata": {},
   "source": [
    "<img src=\"img/nf-core-funcscan_logo_flat_dark.png\" width=\"500\"/>\n",
    "<font size=\"2\"> "
   ]
  },
  {
   "cell_type": "markdown",
   "metadata": {},
   "source": [
    "A bioinformatics best-practice analysis pipeline for the screening of nucleotide sequences such as assembled contigs for functional genes. It currently features mining for antimicrobial peptides, antibiotic resistance genes and biosynthetic gene clusters.\n",
    "\n",
    "<img src=\"img/funcscan_metro_workflow.png\" width=\"500\"/>\n",
    "<font size=\"2\"> "
   ]
  },
  {
   "cell_type": "markdown",
   "metadata": {},
   "source": [
    "**Example Usage**\n",
    "\n",
    "1. Prepare a samplesheet (samplesheet.csv) with your input data. Each row represents a (multi-)fasta file of assembled contig sequences.\n",
    "\n",
    "```\n",
    "sample,fasta\n",
    "CONTROL_REP1,AEG588A1_001.fasta\n",
    "CONTROL_REP2,AEG588A1_002.fasta\n",
    "CONTROL_REP3,AEG588A1_003.fasta\n",
    "```\n",
    "\n",
    "2.  Run the pipeline in a simple CLI line:\n",
    "\n",
    "```\n",
    "nextflow run nf-core/funcscan \\\n",
    "   -profile <docker/singularity/podman/shifter/charliecloud/conda/institute> \\\n",
    "   --input samplesheet.csv \\\n",
    "   --outdir <OUTDIR> \\\n",
    "   --run_amp_screening \\\n",
    "   --run_arg_screening \\\n",
    "   --run_bgc_screening\n",
    "```\n",
    "\n",
    "3. Output comprises of three csv tables corresponding to AMP - BGC - ARGs with which the user can filter further downstream.\n"
   ]
  },
  {
   "cell_type": "markdown",
   "metadata": {},
   "source": [
    "<span style=\"color:blue\">For more information please refer to [Funcscan documentation](https://github.com/nf-core/funcscan) \n",
    "</span>\n",
    "\n",
    "\n",
    "\n"
   ]
  },
  {
   "cell_type": "markdown",
   "metadata": {},
   "source": [
    "---\n",
    "<sub> © Anan Ibrahim, 2023-09 </sub>"
   ]
  }
 ],
 "metadata": {
  "language_info": {
   "name": "python"
  },
  "orig_nbformat": 4
 },
 "nbformat": 4,
 "nbformat_minor": 2
}
