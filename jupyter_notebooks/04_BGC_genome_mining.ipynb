{
 "cells": [
  {
   "cell_type": "markdown",
   "id": "4f57f838-1b57-4225-9c70-4983c4d57c37",
   "metadata": {},
   "source": [
    "# ChemBioSys and AquaDiva | Genome-resolved metagenomics workshop\n",
    "## Functional genome mining - finding biosynthetic gene clusters associated with specialized metabolites\n",
    "\n",
    "In this section of the workshop, we will provide an overview of biosynthetic gene clusters, the functions they code for in genomes, and explore some tools used to find them."
   ]
  },
  {
   "cell_type": "markdown",
   "id": "a9521502-381d-485a-9acc-41622f70ca04",
   "metadata": {},
   "source": [
    "## So what are specialized metabolites and biosynthetic gene clusters?\n",
    "\n",
    "Specialized metabolites, also often referred to as secondary metabolites (although not all secondary metabolites are so specialized) include antibacterial, antifungal, anticancer compounds, often produced by bacteria and fungi. These compounds represent many different compound classes, of which non-ribosomal peptide synthases (NRPS), polyketide synthases (PKS), ribosomally synthesised and post-translationally modified peptides (RiPP), terpenes, bacteriocins are most well known. These compounds have historically been discovered through lab-based bioassays combined with liquid chromatography, mass spectometry and nuclear magnetic resonance (NMR) spectroscopy. \n",
    "\n",
    "Along with high throughput sequencing becoming a cost-effective and widely used method in molecular biology, new avenues for discovery of specialized metabolites, and also studying the evolution and distribution of genetic content associated with these metabolites have been developed. \n",
    "\n"
   ]
  },
  {
   "cell_type": "markdown",
   "id": "d9522f3e-0b3b-4b8f-922d-70306aa3d061",
   "metadata": {},
   "source": [
    "## Exercise - Explore a biosynthetic gene cluster.\n",
    "\n",
    "[Open the Mibig database here](https://mibig.secondarymetabolites.org/repository)\n",
    "\n",
    "Search the repository for an antibiotic - perhaps one that you have taken in the past, or one that interests you.\n",
    "\n",
    "Look through the information provided, like the length of the BGC and the number and type of genes. If you scroll down you will find some more information, such as the organism or genome where it was recorded. \n",
    "\n",
    "The menu will take you through the compound structure, NRPS or PKS modules and accession numbers for individual genes.\n",
    "\n",
    "How many genes are present in the BGC you selected?\n",
    "How long is the cluster?\n",
    "Do you find some regulatory genes, transporter genes and genes of unknown function, along with the core biosynthesis genes?\n",
    "What organisms produce it?\n",
    "Is it an NRPS or PKS or something else?\n"
   ]
  },
  {
   "cell_type": "markdown",
   "id": "64578868-71f9-483f-8891-ef10bbf9e519",
   "metadata": {},
   "source": [
    "## Using antiSMASH to detect biosynthetic gene clusters in metagenome assembled genomes\n",
    "\n",
    "We will use antiSMASH (antibiotic and Secondary Metabolite Analysis Server), which is currently the premier tool for detection of biosynthetic gene clusters.\n",
    "\n",
    "antiSMASH will search all genes in your genome against a set of core BGC-related genes in its database. [open this link for more infomation.](https://docs.antismash.secondarymetabolites.org/understanding_output/regions/) Upon detection any of these genes, it will then use a set of \"rules\" for each type of BGC it detects. These rules are essentially a set of HMM for each rule and upon detection, the cluster gets identified according to the rule. \n",
    "\n",
    "For example, in PKS gene clusters contain regions called ketosynthase (KS) and acyltransferase (AT) domains which are conserved to some degree. For this reason it is possible to build HMMs to detect them. The same is true for NRPS clusters, which have condensation (CDS) and A- (adenylation) domains which enable its detection.\n",
    "\n",
    "You can see all of the antiSMASH rules [here](https://docs.antismash.secondarymetabolites.org/glossary/#clustertypes). If you are interested in seeing more of the inner workings, open the rule files in the [antiSMASH source.](https://github.com/antismash/antismash/blob/master/antismash/detection/hmm_detection/cluster_rules/strict.txt)\n",
    " \n",
    "[Now open the antiSMASH webserver.](https://antismash.secondarymetabolites.org/#!/start)\n",
    "\n",
    "[And lets look at a typical set of results.](https://antismash.secondarymetabolites.org/upload/bacteria-75a3865d-f2be-4952-bf50-07897c40434f/index.html#r1c1)"
   ]
  },
  {
   "cell_type": "markdown",
   "id": "49c5d564-8386-40e8-b4aa-363a20e04551",
   "metadata": {},
   "source": [
    "## antiSMASH input options\n",
    "\n",
    "### KnownClusterBlast\r\n",
    "\r\n",
    "The identified clusters are searched against the MIBiG repository. MIBiG is a hand curated data collection of biosynthetic gene clusters, which have been experimentally characterized.### \r\n",
    "\r\n",
    "ClusterBlast\r\n",
    "\r\n",
    "The identified clusters are searched against a comprehensive gene cluster database and similar clusters are identified. The algorithm used here is inspired by MultiGeneBlast. It runs BlastP using each amino acid sequence from a detected gene cluster as a query on a large database of predicted protein sequences from secondary metabolite biosynthetic gene clusters, and pools the results to identify the gene clusters that are most homologous to the gene cluster that was detected in your query nucleotide sequence. Please note that selecting this option increases the runtime significan### tly.\r\n",
    "\r\n",
    "SubClusterBlast\r\n",
    "\r\n",
    "The identified clusters are searched against a database containing operons involved in the biosynthesis of common secondary metabolite building blocks (e.g. the biosynthesis of non-proteinogenic amino###  acids).\r\n",
    "\r\n",
    "ActiveSiteFinder\r\n",
    "\r\n",
    "Active sites of several highly conserved biosynthetic enzymes are detected and variations of the active sites a### re reported.\r\n",
    "\r\n",
    "Cluster Pfam analysis\r\n",
    "\r\n",
    "Each gene product encoded in the detected BGCs is analyzed against the PFAM database. Hits are annotated in the final Genbank/EMBL files that can be downloaded after the analysis is finished. Please note that these results are not displayed on the antiSMASH HTML results page but they are present in the results genbank file that can be downloaded. Also, selecting this option normally increa### ses the runtime.\r\n",
    "\r\n",
    "Pfam-based GO term annotation\r\n",
    "\r\n",
    "This is annotating the Cluster Pfam analysis described above with GO term annotations. Please note that these results are not displayed on the antiSMASH HTML results page but they are present in the results genbank file that can be downloaded (see \"Understanding the output\" section of the documentation for instructions on how to download the results). Also, selecting this option normally increases the runtime"
   ]
  },
  {
   "cell_type": "markdown",
   "id": "d58bc03f-b06b-4191-a16c-8be0e3e4c677",
   "metadata": {},
   "source": [
    "## Running antiSMASH standalone\n",
    "\n",
    "Submitting your metagenome bins individually to the antiSMASH webserver will be incredibly time-consuming and counterproductive. Instead, we use the antiSMASH standalone version. This also provides the opportunity for further customizing your analysis."
   ]
  },
  {
   "cell_type": "code",
   "execution_count": null,
   "id": "5164f55c-f986-4c9b-b4d9-07d62c047fc0",
   "metadata": {},
   "outputs": [],
   "source": [
    "cd ~/data/workshop/09_ANTISMASH\n",
    "# activate the antismash conda environment\n",
    "conda activate antismash\n",
    "#\n",
    "# View the antiSMASH input options\n",
    "antismash -h"
   ]
  },
  {
   "cell_type": "markdown",
   "id": "79962618-d23a-4984-964d-eda51acae3f5",
   "metadata": {},
   "source": [
    "## Running antiSMASH - important input parameters\n",
    "\n",
    "As you can you, there are many input options. Most of these depend on the purpose of your analysis, like if you are interested in possibly identifying a BGC using known references (less likely in metagenomics), counting the number of biosynthetic gene clusters and getting to most hits possible, or doing further functional exploration and looking for subclusters and other interesting features. \n",
    "\n",
    "If your are not providing an already annotated genbank (.gbk) file, you also need to specify a genefinding tool using the --genefinding-tool option. In our case, we will use \"--genefinding-tool prodigal-m\", which refers to well-known gene prediction tool \"prodigal\" in metagenomic mode and because our input is unannotated fasta files from your binning steps. \n",
    "\n",
    "You could also provide your own gene calling information by providing the gff files along with your input fasta files.\n",
    "\n",
    "Other considerations:\n",
    "\n",
    "- Inluding whole genome HMMer\n",
    "- using a --minlength cutoff\n",
    "- cluster comparison options (results to be interpreted with caution)\n",
    "\n",
    "Thus, the command to run antiSMASH looks like this:\n",
    "\n",
    "### antismash input_file --output-dir antismash_result/bin_name --clusterhmmer --cc-mibig --cb-general --cb-knownclusters --pfam2go --rre --minlenth 7500 --genefinding-tool prodigal-m\n",
    "\n",
    "However, since we have many genomes, we will run antiSMASH using a for-loop. Essentially, this means that we execute antiSMASH on each of our fasta files (from your genome bins).\n",
    "\n",
    "You might see the warning about long sequence headers - you can ignore this, but keep in mind your contig names are now different. Version 7 of antiSMASH allows disabling this function."
   ]
  },
  {
   "cell_type": "code",
   "execution_count": null,
   "id": "d6e4b3e1-2d32-4417-a261-1e21ac450ca6",
   "metadata": {},
   "outputs": [],
   "source": [
    "# make a directory from where your antismash output will be stored\n",
    "mkdir antismash_result\n",
    "for fasta_file in ./input/*.fa; do base=$(basename \"$fasta_file\" .fa); antismash \"$fasta_file\" --output-dir antismash_result/$base --clusterhmmer --cc-mibig --minlength 7500 --cb-general --cb-knownclusters --pfam2go --rre --genefinding-tool prodigal-m ; done"
   ]
  },
  {
   "cell_type": "markdown",
   "id": "a2f64d54-8929-4cf5-97c3-4b7849080f6e",
   "metadata": {},
   "source": [
    "### Lets explore the antiSMASH output"
   ]
  },
  {
   "cell_type": "code",
   "execution_count": null,
   "id": "23afaa9f-4adb-435a-9ddd-573d2e9155f2",
   "metadata": {},
   "outputs": [],
   "source": [
    "cd antismash_result\n",
    "ls\n",
    "cd Bin_3\n",
    "ls"
   ]
  },
  {
   "cell_type": "markdown",
   "id": "8312c7df-5af7-4aca-b9aa-bfc086d7f60d",
   "metadata": {},
   "source": [
    "The way we specified that antiSMASH uses an output directory with the same name as our genome bins means that we now have a directory with the results for each.\n",
    "\n",
    "In the output, you will see the following:\n",
    "\n",
    "Bin_3.gbk                         - this file contains ORFs identified and annotated according to the information available \n",
    "Bin_3.json                        - if you are good at Python you will want to explore the treasure trove of information stored in antiSMASH json files.\n",
    "NZ_CP009530.1.region001.gbk       - these are the files that contain most details about the clusters, and are most important for most of the downstream processing.\n",
    "NZ_CP009530.1.region002.gbk\n",
    "NZ_CP009530.1.region003.gbk\n",
    "index.html                        - opening this file will present results exactly as we saw it earlier on the antiSMASH webserver. This could be very useful if you have few genomes and target specific BGCs\n",
    "knownclusterblast.txt\n",
    "clusterblast.txt\n",
    "\n",
    "Next step would be to tabulate the antiSMASH output to really see what we got. To do this we will use two Python scripts borrowed from Zacchary Reitz (https://github.com/zreitz/multismash). One will create a table with BGC counts per genome, and the other will provide more information on specific BGCs"
   ]
  },
  {
   "cell_type": "code",
   "execution_count": null,
   "id": "ef677f45-04f7-41fa-af3f-3dbf1f4c52e7",
   "metadata": {},
   "outputs": [],
   "source": [
    "head -n 30 NZ_CP009530.1.region001.gbk"
   ]
  },
  {
   "cell_type": "code",
   "execution_count": null,
   "id": "2b9bb956-988f-41e6-88c5-313313132200",
   "metadata": {},
   "outputs": [],
   "source": [
    "cd ../..\n",
    "python count_regions.py example_output/ BGC_counts.tsv\n",
    "python tabulate_regions.py example_output/ BGCs_info.tsv"
   ]
  },
  {
   "cell_type": "code",
   "execution_count": null,
   "id": "7d57d7d4-0285-4ab1-985c-ed4dc4e89e31",
   "metadata": {},
   "outputs": [],
   "source": [
    "head -n 60 BGC_counts.tsv"
   ]
  },
  {
   "cell_type": "code",
   "execution_count": null,
   "id": "76c06dda-43b7-43a4-9650-fb7eb878dd05",
   "metadata": {},
   "outputs": [],
   "source": [
    "head -n 60 BGC_tab.tsv"
   ]
  },
  {
   "cell_type": "markdown",
   "id": "ff09c675-5ac9-4a0c-ab3e-730b2be138a9",
   "metadata": {},
   "source": [
    "You can open the two files generated above and see what your output looks like?\n",
    "\n",
    "How many clusters were detected?\n",
    "Which type of BGCs were most common?\n",
    "Which genome had the most BGCs?"
   ]
  },
  {
   "cell_type": "code",
   "execution_count": null,
   "id": "9e17e952-e334-497e-8555-6e62a16d39df",
   "metadata": {},
   "outputs": [],
   "source": [
    "wget https://raw.githubusercontent.com/Zander22/metallophore/main/plot_BGCs.R\n",
    "conda deactivate\n",
    "conda activate r\n",
    "Rscript ./plot_BGCs.R"
   ]
  },
  {
   "cell_type": "markdown",
   "id": "f653f78c-1f25-49bf-bc75-5631a18c1cfa",
   "metadata": {},
   "source": [
    "Well done, you have now completed your first dive into antiSMASH, explored its capabilities and its output."
   ]
  },
  {
   "cell_type": "markdown",
   "id": "2bddcd34-24ca-47e8-ba9a-4b3c66b5b701",
   "metadata": {},
   "source": [
    "### Other BGC mining tools\n",
    "\n",
    "If your main goal is mining metagenomes or metagenome bins to identify as many BGCs as possible, you might be interested to combine different approaches. \n",
    "\n",
    "### Some other BGC identification tools include:\n",
    "GECCO: https://gecco.embl.de/ - An alternative, de novo approach to find BGCs\r",
    "[DeepBG: (https://github.com/Merck/deepbg - \n",
    "Deep learning approach for BGC detection[\n",
    "biosyntheticSdPA: ](https://cab.spbu.ru/software/biosyntheticspade - s reconstructs BGCs in assembly graphs from genomic and metagenomics data set\n",
    "\n",
    "# #\r\n",
    "Class-specific BGC detet[\n",
    "RiPP RODEO: https://ripp.rodeo/index.html - RiPP discovery and genomic context\r\n",
    "BAGEL:4https://github.com/annejong/BAGEL4 -  search DNA for bacteriocins and RiPPs\r\n",
    "DeepRi:phttp://deepripp.magarveylab.ca/ - p neural network-based detection of RiPPs\r\n",
    "decRiPP:thttps://github.com/Alexamk/decRiPPter - er designed to detect novel RiPP BGCs not restricted to specific genetic markers\r\n",
    "trans:Phttps://github.com/chevrm/transPACT - ACT trans-acetyltransferase polyketide synthase detectionsthase d\n",
    "\n",
    "If you are interested in any of these tools, perhaps you can try them out in th BYOD session.etection"
   ]
  },
  {
   "cell_type": "markdown",
   "id": "2d17a1c7-55fe-4b07-b509-9cdb049ebbd8",
   "metadata": {},
   "source": [
    "## Clustering BGCs\n",
    "\n",
    "There are many tools available which allows the clustering of BGCs. There are many reasons to do this, such as aiding in identification, doing evolutionary mining analysis or assessing whether BGCs are potentially divergent from anything knwon.\n",
    "\n",
    "Tools you could use include: \n",
    "[BiG-SCAPE](https://bigscape-corason.secondarymetabolites.org/) \n",
    "[CLUST-O-MATIC](https://github.com/Helmholtz-HIPS/clustomatic_source)\n",
    "[BiG-SLiCE](https://github.com/medema-group/bigslice)\n",
    "\n",
    "### BiG-SLiCE: Biosynthetic Gene clusters - Super Linear Clustering Engine\n",
    "[Paper here](https://academic.oup.com/gigascience/article/10/1/giaa154/6092777)\n",
    "\n",
    "BiG-SLiCE allows clustering thousands of BGCs very quickly and build databases based on the results. It also allows querying your own set of BGCs against a dataset contain 1.2 million BGCs.\n",
    "\n",
    "Here we will use the BiG-FAM database as a refernce to compare the potential novelty of BGCs in our dataset.\n",
    "\n",
    "The reference database containing 1.2 million BGCs is also available online and named (BiG-FAM.)[https://bigfam.bioinformatics.nl/home) Let's open and explore that.\n",
    "\n",
    "Here is a description from the website: \n",
    "\n",
    "    The Biosynthetic Gene Cluster Family (GCF) database is an online repository for \"homologous\" groups of biosynthetic gene clusters (BGCs) putatively encoding the production of similar specialized metabolites.     By taking large-scale, global collections of BGCs identified from currently available genomes and MAGs as a data source, BiG-FAM provides an explorable \"atlas\" of microbial secondary metabolic diversity to b     browse and search biosynthetic diversity across taxa. BiG-FAM facilitates querying putative BGCs to rapidly find their position on the diversity map and gain a better understanding of their novelty or            functions, based on relationships with other known and predicted BGCs from publicly available data.\n",
    "    For the Big-SLiCE analysis, we will create a new directory with all the BGC .gbks from our earlier antiSMASH output. The reference database is already prepared, and named \"full_run_result\"\n",
    "\n",
    "Here it is also important to consider clustering thresholds (how similar gene clusters are to be clustered together). Furthermore, when doing the BiG-SLiCE query analysis the (euclidean) distance between our BGCs and those in the database is important. For the moment, we use the thresholds defined in the paper as distance.\n",
    "\n",
    "### Make sure to speak to us later if you are interested in setting up BiG-SLiCE to query BGCs on our own server or laptop.\n",
    "\n",
    "### Here are the steps for this analysis:"
   ]
  },
  {
   "cell_type": "code",
   "execution_count": null,
   "id": "f6f4bc6a-6de4-4e65-8b21-1c93d3c769ab",
   "metadata": {},
   "outputs": [],
   "source": [
    "conda activate bigslice\n",
    "cd ../10_BIGSLICE\n",
    "bigslice --query example_input/ --run_id 6 --query_name workshop_12092023 full_run_result/"
   ]
  },
  {
   "cell_type": "markdown",
   "id": "b9685ad3-5426-4fa2-b96f-05436392b596",
   "metadata": {},
   "source": [
    "### BiG-SLiCE results\n",
    "\n",
    "The results are output to a very large database, containing 1.2 million BGCs with their taxonomy and already clustered into gene cluster families (GCFs). These data are stored in a sqlite database, which can house very large amounts of data, but it is not very intuitive to use for new users.\n",
    "\n",
    "On your own server or computer, you can explore the results using the Flask webserver as follows. Instructions can be found [here](https://github.com/medema-group/bigslice/tree/master/misc/input_folder_template)\n",
    "\n",
    "The BiG-SLiCE output provides distance values - distance between your BGCs and the best-matching gene-cluster family in the database. A distance of < 900 is considered \"related\" to the closest reference, a distance > 900 and < 1800 means it is distantly related to the GCF in the reference, and a distance of > 1800 means extremely divergent from any known references. \n",
    "\n",
    "I will provide a python script to extract the necessary information from the BiG-SLiCE analysis, which we will use to make a figure in R."
   ]
  },
  {
   "cell_type": "code",
   "execution_count": null,
   "id": "c892f9ab-8ff2-4f42-9a14-0d7bcbe7abf7",
   "metadata": {},
   "outputs": [],
   "source": [
    "wget https://raw.githubusercontent.com/Zander22/metallophore/main/plot_BGC_distances.R\n",
    "wget wget https://raw.githubusercontent.com/Zander22/metallophore/main/extract_distances.py\n",
    "#\n",
    "cd full_run_result\n",
    "#\n",
    "python get_report.py\n",
    "python extract_distances.py\n",
    "#\n",
    "cp exported_full_tables_Sp_Report/merged_table.txt ../\n",
    "#\n",
    "cd ..\n",
    "#\n",
    "conda deactivate\n",
    "conda activate r\n",
    "#\n",
    "Rscript ./plot_BGC_distances.R"
   ]
  },
  {
   "cell_type": "markdown",
   "id": "a87c224d-3923-44ca-a629-d49097d5f7b0",
   "metadata": {},
   "source": [
    "How divergent were the BGCs in this dataset? Do you think there are any that are completely novel?"
   ]
  },
  {
   "cell_type": "markdown",
   "id": "c65a0eb8-188d-48c8-a6ed-47c510abb2e9",
   "metadata": {},
   "source": [
    "If time allows, we will now use a different method to cluster BGCs as a means to dereplicate, identify and visualize the presence of difference BGCs across genomes.\n",
    "\n",
    "We will use the [CLUST-O-MATIC](https://github.com/Helmholtz-HIPS/clustomatic_source) tool from the Ziemert lab. \n",
    "\n",
    "The db2fasta.py script will convert our cluster (region) .gbk files to fasta files and then we run clust-o-matic.\n",
    "db2fasta takes directories labelled according to genomes, with the cluster .gbk files inside, and will create a single fasta file.\n",
    "\n",
    "Then running clust-o-matic, the input will be the fasta file created, and the clustering threshold."
   ]
  },
  {
   "cell_type": "code",
   "execution_count": null,
   "id": "a31018de-4557-4fa0-b5d3-055d4c3c82c1",
   "metadata": {},
   "outputs": [],
   "source": [
    "conda deactivate\n",
    "conda activate clustomatic\n",
    "cd ../11_CLUSTOMATIC\n",
    "# first we cluster the BGCs from the genome bins and see whether any BGCs are shared between genome bins\n",
    "python gb2fasta.py input_clusters/ BGCs_genomes.faa\n",
    "python clustomatic.py BGCs_genomes.faa 0.25 > BGCs_genomes_clusters.txt"
   ]
  },
  {
   "cell_type": "code",
   "execution_count": null,
   "id": "17955685-0ec8-4197-9731-3e6faede03e3",
   "metadata": {},
   "outputs": [],
   "source": [
    "head -n 50 BGCs_genomes_clusters.txt"
   ]
  },
  {
   "cell_type": "markdown",
   "id": "4df4a53c-473a-4f6e-9b1d-1699e479cf70",
   "metadata": {},
   "source": [
    "You can see in the output the genome name in the first column, and the gene cluster family number in the second column. We will parse these in R and plot a heatmap"
   ]
  },
  {
   "cell_type": "code",
   "execution_count": null,
   "id": "925ec192-1d5b-4835-8e83-a14cce5276c1",
   "metadata": {},
   "outputs": [],
   "source": [
    "# now we cluster our genome bins together with the MiBiG database to see whether this approach allows us to identify some of these clusters\n",
    "python gb2fasta.py input_clusters/ BGCs_mibig.faa\n",
    "python clustomatic.py BGCs_mibig.faa 0.25 > mibig_clusters.txt"
   ]
  },
  {
   "cell_type": "code",
   "execution_count": null,
   "id": "1d2e46f0-41bf-4907-8c45-3343410b6895",
   "metadata": {},
   "outputs": [],
   "source": [
    "head -n 50 mibig_clusters.txt"
   ]
  },
  {
   "cell_type": "markdown",
   "id": "5f638f3c-9231-40d8-b13b-24b41676c19b",
   "metadata": {},
   "source": [
    "Again as above, but this time MiBiG BGCs are added to the output. We will filter these to any possible hits to your genome bins and make another heatmap in R."
   ]
  },
  {
   "cell_type": "code",
   "execution_count": null,
   "id": "f7c3b774-2c50-46ed-ab6b-13fdb001593a",
   "metadata": {},
   "outputs": [],
   "source": [
    "wget https://raw.githubusercontent.com/Zander22/metallophore/main/heatmap_BGC_genomes.R\n",
    "wget https://raw.githubusercontent.com/Zander22/metallophore/main/heatmap_BGC_mibig.R\n",
    "conda deactivate\n",
    "conda activate r\n",
    "Rscript ./heatmap_BGC_genomes.R\n",
    "Rscript ./heatmap_BGC_mibig.R"
   ]
  },
  {
   "cell_type": "markdown",
   "id": "e74a3e29-d8f6-4bd4-b411-06cfdc927ac4",
   "metadata": {},
   "source": [
    "## A few tools to further explore the function, evolution or relevance of your BGCs\n",
    "\n",
    "ARTS: http://arts.ziemertlab.com/ - Antibiotic Resistant Target Seeker, a tool to help identify resistance genes within BGCs.\n",
    "NaPDoS: https://npdomainseeker.sdsc.edu/napdos2/napdos_home_v2.html -  classification of ketosynthase (KS) and condensation (C) domains\r\n",
    "EvoMinng: (https://github.com/nselem/EvoMining/wik -g genome-mining and visualization approach for biosynthetic enzyme discovery that incorporates evolutionary principl[s\r\n",
    "AutLST: ](https://automlst.ziemertlab.coAutoM/)LS- T automatic generation of a species phylogeny with reference organi\n",
    "\n",
    "ARTS is a really cool tool, and could potentially aid you in identifying whether some of your novel BGCs code for antimicrobial compounds, based on the assumption that BGCs will have antibiotic resistance genes location on or near them. If there is time. Open the link...sms"
   ]
  },
  {
   "cell_type": "markdown",
   "id": "ce38e77b-d794-4ec1-91e5-c5b978f068af",
   "metadata": {},
   "source": [
    "## Summary\n",
    "\n",
    "You have:\n",
    " - mined your genome bins for BGCs and explored its output\n",
    " - clustered your BGCs to a database with 1.2 million BGCs and determined whether any of them are novel clusters\n",
    " - clustered your BGCs to try and identify them, and dereplicate them in your dataset."
   ]
  }
 ],
 "metadata": {
  "kernelspec": {
   "display_name": "Bash",
   "language": "bash",
   "name": "bash"
  },
  "language_info": {
   "codemirror_mode": "shell",
   "file_extension": ".sh",
   "mimetype": "text/x-sh",
   "name": "bash"
  }
 },
 "nbformat": 4,
 "nbformat_minor": 5
}
