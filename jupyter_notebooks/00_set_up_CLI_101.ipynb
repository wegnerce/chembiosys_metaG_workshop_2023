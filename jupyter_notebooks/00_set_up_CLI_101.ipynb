{
 "cells": [
  {
   "cell_type": "markdown",
   "id": "9fc2d318-fd14-4b63-9e22-386b0e58ad4f",
   "metadata": {},
   "source": [
    "# ChemBioSys and AquaDiva | Genome-resolved metagenomics workshop"
   ]
  },
  {
   "cell_type": "markdown",
   "id": "238d8051-f3cd-48f3-96fb-24790ab5221f",
   "metadata": {},
   "source": [
    "This is your interactive course script that is designed as [`Jupyter Notebook`](https://jupyter.org/), an interactive computational document that allows you to execute the code/tools we are using throughout the course in a browser window. You find here all the background information plus protocols needed for the individual parts of the course.\n",
    "\n",
    "## In a nutshell\n",
    "This workshop aims to provide you with detailed insights into  genome-resolved metagenomics. We will familiarize ourselves with the needed knowledge about the [`Linux commandline`](https://www.gnu.org/software/bash/), and progress through the bioinformatic analyses that are necessary to reconstruct genomes from metagenome datasets.\n",
    "\n",
    "The contents of the course are summarized in the figure below, the course day will be accompanied by short discussions/presentations about the aspects we are working on.\n",
    "\n",
    "<img src=\"img/metgenomics_v4.png\" alt=\"Course contents\" width=\"750\"/>"
   ]
  },
  {
   "cell_type": "markdown",
   "id": "4b8984f1-1bbd-4eb7-b828-580bfb1a6273",
   "metadata": {},
   "source": [
    "## The (rough) schedule\n",
    "\n",
    "| **Course day** | **To do**                                                      | **Discussions / Presentations**                                          |\n",
    "|----------------|----------------------------------------------------------------|--------------------------------------------------------------------------|\n",
    "| _1 - morning_  | CLI 101, QAQC sequencing data                                  | Sequencing methods, past, present, future                                |\n",
    "|                |                                                         **COFFEE BREAK 10.45-11.00**                                                      |   \n",
    "|                | Short-read taxonomic profiling, metagenome coverage estimation | A few words about study design and metagenomics                          |\n",
    "|                |                                                         **LUNCH BREAK 12.30-1.30**                                                        |\n",
    "| _1 - afternoon_ | Metagenome assembly, binning, bin refinement                   | How do assembly and binning work                                        |\n",
    "|                |                                                         **COFFEE BREAK 3.00-3.15**                                                        |\n",
    "|                | Assessing genome completeness/contamination, taxonomic placement | The beauty of single copy marker genes                                 |\n",
    "\n",
    "## Managing expectations\n",
    "\n",
    "Based on the survey we did with you, we know that most of you have very limited or basic knowledge about commandline work, sequence data processing as a whole, and genome-resolved metagenomics. At the same time, some of you have probably a very comprehensive background regarding some of the contents covered. This is no one-size-fits-all workshop, but we try to address your interests best possible.\n",
    "\n",
    "After finishing the workshop you should...:\n",
    "\n",
    "* ... have a good understanding of the steps involved when doing genome-resolved metagenomics,\n",
    "* ... be aware of shortcomings, bottlenecks, and ways to solve problems that typically arise,\n",
    "* ... know how to get started with genome-resolved metagenomics on your own.\n",
    "\n",
    "Feel free to ask/approach us throughout the workshop if you have particular questions that we maybe don't cover in depth 😉."
   ]
  },
  {
   "cell_type": "markdown",
   "id": "16722d16-8838-4a78-8627-9b4234b095f7",
   "metadata": {},
   "source": [
    "## Session 00 | Getting everything up and running\n",
    "\n",
    "TO DO\n",
    "\n",
    "### Connecting to the deNBI server\n",
    "\n",
    "For accessing the server from Windows we use a client program called [_MobaXTerm_](https://mobaxterm.mobatek.net/). You can find the installation instructions for MobaXTerm [here](https://www.youtube.com/watch?time_continue=17&v=E1rMooFomHM&feature=emb_logo).\n",
    "\n",
    "Once you have installed MobaXTerm you can connect to our server as follows:\n",
    "\n",
    "* Start MobaXTerm, you are greeted by a window with a lot of buttons, but do not despair.\n",
    "\n",
    "![The MobaXTerm interface.](img/mobax_1.png)\n",
    "\n",
    "* Click on *Start local terminal* and you end up on a commandline. Enjoy the feeling of being a hacker for a moment before we go on 😀.\n",
    "\n",
    "![Say hello to the MobaXTerm Terminal](img/mobax_2.png)\n",
    "\n",
    "For connecting to our server we use the ssh command, which establishes a secure connection. The default syntax is `#!bash ssh user@remote_machine`. For the course we have ...\n",
    "\n",
    "![Using SSH to connect to our server](img/mobax_8.png)\n",
    "\n",
    "And now we are all set 😎😎😎!"
   ]
  },
  {
   "cell_type": "markdown",
   "id": "341a1299-f049-405b-ad6a-8eee5052fe40",
   "metadata": {},
   "source": [
    "## Session 00 | Using Jupyter Notebooks\n",
    "\n",
    "`Jupyter Notebooks` as said above, are interactive, computational documents, they are shareable documents that combine (executable) computer code, plain language descriptions, data (output, think graphs, tables), and interactive controls. Opening a notebook using an editor like [`JupyterLab`]() (the interface you are looking at right now) gives us a fast, easy to use environment for prototyping commands and tools.\n",
    "\n",
    "![Say hello to the GUI](img/jupyter_GUI.png)\n",
    "\n",
    "`Jupyter Notebooks` contain two different types of _cells_, _markdown cells_ and _code cells_. _Markdown cells_ contain formatted text. What you read right now is such a _markdown cell_. [`Markdown`](https://en.wikipedia.org/wiki/Markdown) is a \"lightweight markup language for creating formatted text\". If you _DOUBLE CLICK_ into the cell you read right now, you can see the formatting. A comprehensive guide to the `Markdown` syntax can be found [here](https://www.markdownguide.org/). \n",
    "\n",
    "---\n",
    "❗**NOTE**\n",
    "\n",
    "What makes `Jupyter Notebooks` even more awesome is that you can modify them while you use them. They are **not static**. You _DOUBLE CLICK_ a cell, modify it as you want (think additional comments), and run it (in the case of a markdown cell translates into \"typesetting\" it. To run a cell click either the _PLAY_ button or hit _SHIFT+ENTER_.\n",
    "\n",
    "---\n",
    "\n",
    "Below you find a _code cell_. Throughout the workshop we use _code cells_ to execute code on the commandline."
   ]
  },
  {
   "cell_type": "code",
   "execution_count": null,
   "id": "ef628716-40fd-45ea-afdf-806be352e252",
   "metadata": {},
   "outputs": [],
   "source": [
    "### An empty code cell\n",
    "### every line starting with a \"#\" is considered a comment and not executed"
   ]
  },
  {
   "cell_type": "markdown",
   "id": "b4209f4a-bafb-4f24-8918-3871d24c68b2",
   "metadata": {},
   "source": [
    "During the workshop, we work through different `Jupyter Notebooks` that are executed on the `deNBI` server we have access to. Servers by default don't come with browsers and graphical user interfaces. In order to take full advantage of `Jupyter Notebooks` we connect to the used server in a way that allows us to access the `JupyterLab` GUI locally through any common web browser.\n",
    "\n",
    "`ssh -L 8889:localhost:8889 mbgw223_01@10.232.56.10`\n",
    "\n",
    "`http://localhost:8889/`\n",
    "\n",
    "The upper command establishes the connection to the server, the `JupyterLab` GUI is forwarded from the server via port `8889` (a port is a virtual point for establishing network connections). You can paste the address below to access the  `JupyterLab` GUI. The password is \"microbiome\" for all users. Once you have entered the password, you are greeted by the GUI.\n",
    "\n",
    "## Session 00 | Basics of using the command-line interface (CLI)\n",
    "\n",
    "Linux is king in bioinformatics, which makes the CLI omnipresent when you deal with any random task in bioinformatics. Let's spend some time familiarizing ourselves with a few basic, and useful commands.\n",
    "\n",
    "Below you find a couple of _code cells_ that show what some exemplary commands/tools are doing.\n",
    "\n",
    "---\n",
    "❗**NOTE**\n",
    "\n",
    "You know your way around the CLI? **Excellent**, the part below is really just optional and for participants that are not so familiar with the CLI yet.\n",
    "\n",
    "---\n",
    "\n",
    "### Getting to know some basic commands"
   ]
  },
  {
   "cell_type": "code",
   "execution_count": null,
   "id": "1ce6bb0d-9eb4-4ed5-b305-bcfa92a4a857",
   "metadata": {
    "scrolled": true
   },
   "outputs": [],
   "source": [
    "### We move into our home directoy\n",
    "cd ~\n",
    "### Print the working directory (where are we)\n",
    "pwd\n",
    "### We move to the data directory within our home folder\n",
    "cd data/MBGW223\n",
    "### The ls=list command allows us to show the content of the data folder\n",
    "ls -lrth\n",
    "ls -lrt"
   ]
  },
  {
   "cell_type": "markdown",
   "id": "19259c84-237f-4b07-b076-894a2b48f3e7",
   "metadata": {},
   "source": [
    "With the first command `cd ~`, you always return to your home directory `/home/<username>`. `cd` stands for change directory and allows you to move to any specified location. The second command `pwd` prints the working directory (aka your current location. With `cd data` we move into the data directory that is located within your home folder. `ls -lrth` shows us then finally the content of data. Everything listed behind `-` » `-lrth` are so-called flags or parameters. `cd`, `pwd`, `ls` are all command-line tools and many of them come with a lot of options, which makes them very versatile and powerful. Let's figure out what these flags `-lrth` are doing. All command-line tools come with a help or manual, which you can, dependent on the tool, call using `<command> --help`, `<command> -h`, or `man <command>`. What does the `ls` help tell us?!"
   ]
  },
  {
   "cell_type": "code",
   "execution_count": null,
   "id": "6d53cb23-0412-4d7d-a0ae-890d849aa94b",
   "metadata": {},
   "outputs": [],
   "source": [
    "### Calling the help of the program ls\n",
    "ls --help"
   ]
  },
  {
   "cell_type": "markdown",
   "id": "1f48720a-f6eb-40b2-baa7-44c96cb52972",
   "metadata": {},
   "source": [
    "You lost your sense of time after the summer break. Check out `cal`."
   ]
  },
  {
   "cell_type": "code",
   "execution_count": null,
   "id": "6a1312ee-6a50-4291-9226-ee31e4065056",
   "metadata": {},
   "outputs": [],
   "source": [
    "### Calling the CLI's calendar\n",
    "cal"
   ]
  },
  {
   "cell_type": "markdown",
   "id": "567a46fc-ef53-49b0-af9e-8d08a04f0fff",
   "metadata": {},
   "source": [
    "You wonder how much memory your maschine has left, let's have a look."
   ]
  },
  {
   "cell_type": "code",
   "execution_count": null,
   "id": "fae95b38-b05a-45f8-b2c4-4ee79cba7708",
   "metadata": {},
   "outputs": [],
   "source": [
    "### How much memory is left\n",
    "free"
   ]
  },
  {
   "cell_type": "markdown",
   "id": "b3dfccfb-e8de-4b6a-bd34-03322e24cb3a",
   "metadata": {},
   "source": [
    "You know you can call the help/manual of any commandline tool. These manual can be really, really long. The [`tldr`](https://tldr.sh/) project is a community effort to streamline the manuals commandline tools and provide useful examples for all of them. Check it out:"
   ]
  },
  {
   "cell_type": "code",
   "execution_count": null,
   "id": "83aba8f9-4957-480e-aa04-87504d2d41c5",
   "metadata": {},
   "outputs": [],
   "source": [
    "### Call tldr for ls\n",
    "tldr ls"
   ]
  },
  {
   "cell_type": "markdown",
   "id": "f3f59e53-7575-4cc9-9635-fd88c92c5215",
   "metadata": {},
   "source": [
    "One concept that is often not easy to grasp for users that are new to the commandline is the difference between _relative_ and _absolute_ paths.\n",
    "\n",
    "An _absolute_ path begins with the root directory and follows the tree branch by branch until the path to the desired directory or file is completed. What does that mean? On Linux maschines, there is a directory that contains a lot of the systems programs `/usr/bin`. In the `root` directory, there is a directory called `usr` that contains a directory called `bin`.\n",
    "\n",
    "The difference between _absolute_ and _relative_ paths is that a _relative_ path starts from the current working directory. A couple of special symbols are used to represent relative positions in the file system: `.` refers to the working directoy and `..` to the working directory's parent directory."
   ]
  },
  {
   "cell_type": "code",
   "execution_count": null,
   "id": "bcda2f37-3689-429b-88b5-eb3805fc7c27",
   "metadata": {},
   "outputs": [],
   "source": [
    "### We move to /usr/bin\n",
    "cd /usr/bin\n",
    "pwd\n",
    "### The parent directory of /usr/bin is /usr\n",
    "### we can get there by using absolute and relative paths\n",
    "### 1| absolute path\n",
    "cd /usr\n",
    "### 2| relative path\n",
    "cd /usr/bin\n",
    "pwd\n",
    "cd .."
   ]
  },
  {
   "cell_type": "markdown",
   "id": "00c957d6-a6d8-4e2b-ba3f-68a703289a46",
   "metadata": {},
   "source": [
    "We are lazy, we usually opt for the method that requires the least typing 😁.\n",
    "\n",
    "You can use your newly acquired \"navigation skills\" to check out the filesystem of your maschine a bit. Below you find some interesting directories/locations that are common for any Linux-based system.\n",
    "\n",
    "### A (kind of) guided tour of the filesystem\n",
    "\n",
    "You know how to move using the commandline, let's use this knowledge to check out the file system.\n",
    "\n",
    "|  **Directory** | **Comments**                                                     |\n",
    "|----------------|------------------------------------------------------------------|\n",
    "|      /         | the root directory                                               |\n",
    "|      /bin      | programs needed by the system to boot and run                    |\n",
    "|      /etc      | contains system-wide configuration files                         | \n",
    "|      /home     | each user has a directory in home                                |\n",
    "|      /opt      | contains \"optional software\"                                     |\n",
    "|      /root     | home folder of the root user (=sys admin)                        |\n",
    "|      /tmp      | place for temporary, transient files                             |\n",
    "|      /usr      | contains programs and support files used by users                |\n",
    "|      /usr/bin  | executable programs held by the Linux system                     |\n",
    "|      /var/log  | log files, records of system activity                            |"
   ]
  },
  {
   "cell_type": "code",
   "execution_count": null,
   "id": "7efe96b9-7782-4743-bb61-afbce2674e79",
   "metadata": {},
   "outputs": [],
   "source": [
    "### How many programs does /usr/bin hold\n",
    "cd /usr/bin\n",
    "### ls lists the content of a directory\n",
    "### here we pipe \"|\" its output into another program wc\n",
    "### wc counts lines, words, etc. here it counts all files present\n",
    "ls | wc -l"
   ]
  },
  {
   "cell_type": "markdown",
   "id": "0733a66c-91b5-4576-87ef-09d76d865fe8",
   "metadata": {},
   "source": [
    "### Dealing with files and directories\n",
    "\n",
    "When you work on the commandline you constantly deal with files and directories, below you find some examples regarding commands that are needed to manipulate them.\n",
    "\n",
    "#### Wildcards\n",
    "\n",
    "One aspect that makes working with the commandline so powerful, and which adds a touch of magic to it, are _wildcards_. Wildcards are special characters that allow you to specify group of files. Wildcards can be used with any command that accepts filenames and directories as arguments.\n",
    "\n",
    "|  **Wildcard**  | **Match**                                                        |\n",
    "|----------------|------------------------------------------------------------------|\n",
    "|   *            | any characters                                                   |\n",
    "|   ?            | any single character                                             |\n",
    "|   \\[ABC\\]      | any character specified in [], here A, B, or C                   | \n",
    "|  \\[!ABC\\]      | any character NOT specified in []                                |\n",
    "|  \\[:class:\\]   | any character that is a member of \"class\", see below             |\n",
    "|  \\[:alnum:\\]   | any alphanumeric character                                       |\n",
    "|  \\[:alpha:\\]   | any alphabetic character                                         |\n",
    "|  \\[:digit:\\]   | any numeral                                                      | \n",
    "|  \\[:lower:\\]   | any lowercase letter                                             |\n",
    "|  \\[:upper:\\]   | any uppercase letter                                             |\n",
    "\n",
    "#### mkdir, cp, mv, rm\n",
    "\n",
    "The `mkdir` command is used to create directories."
   ]
  },
  {
   "cell_type": "code",
   "execution_count": null,
   "id": "f5850af8-1106-47e2-9a86-545f8e8a0a94",
   "metadata": {},
   "outputs": [],
   "source": [
    "### Let's create a directory and move into it\n",
    "mkdir 00_CLI\n",
    "cd 00_CLI\n",
    "### You can create multiple directories at once\n",
    "mkdir test1 test2 test3\n"
   ]
  },
  {
   "cell_type": "markdown",
   "id": "c23eac5c-017c-4637-b2a1-ca70722e7cf4",
   "metadata": {},
   "source": [
    "The `cp` command copies files or directories."
   ]
  },
  {
   "cell_type": "code",
   "execution_count": null,
   "id": "c30ec4bd-030e-4d45-a6de-a57f5de6756e",
   "metadata": {},
   "outputs": [],
   "source": [
    "### We create an empty .txt file with touch\n",
    "touch test.txt\n",
    "### and copy it from test.txt to new.txt\n",
    "cp test.txt new.txt\n",
    "### you can copy files into directories the same way\n",
    "cp new.txt test1/\n",
    "### check out the options of cp for commonly used options .e.g -R\n",
    "tldr cd"
   ]
  },
  {
   "cell_type": "markdown",
   "id": "16d6a8ce-6d91-49c0-b76e-c0b90a9a3ebe",
   "metadata": {},
   "source": [
    "`mv`is used in very much the same way as `cp`. In comparison to `cp`, imagine _copy & paste_, `mv` is equivalent to _cut & paste_."
   ]
  },
  {
   "cell_type": "code",
   "execution_count": null,
   "id": "61ee364a-2437-4523-8429-e49fc891fe4d",
   "metadata": {},
   "outputs": [],
   "source": [
    "### Move new.txt\n",
    "mv new.txt test2/\n",
    "### check out the options of mc for commonly used options .e.g -i\n",
    "tldr mv"
   ]
  },
  {
   "cell_type": "markdown",
   "id": "1d79ffd1-1526-4716-a2de-b449ef75c4ab",
   "metadata": {},
   "source": [
    "### A quick word about conda\n",
    "\n",
    "Throughout the course we use many different software tools. A lot of these tools have conflicting dependencies (tool X relies on package Z, tool Y too, but tool Y needs version 0.2 of Z, while tool X needs version 0.1). In order to have them available anyway, we use `virtual environments` (and `container`) a lot in bioinformatics.\n",
    "\n",
    "`conda` is a package manager and tool to set up and manage `virtual environments`. `Virtual environments` can be best imagined as encapsulations that are to a certain extent isolated from the respective computer system/operating system. \n",
    "\n",
    "By default, every user on our servers can make use of global `conda` environments.\n",
    "\n",
    "One can check available `conda` environments as follows:\n",
    "\n",
    "`conda info --envs`\n",
    "\n",
    "Environments are activated and deactivated using the following commands:\n",
    "\n",
    "`conda activate <name_of_environment>`\n",
    "\n",
    "`conda deactivate`"
   ]
  },
  {
   "cell_type": "markdown",
   "id": "6d2abfbf-1f2c-4354-b9b8-c3673a1d8501",
   "metadata": {},
   "source": [
    "\n",
    "---\n",
    "🔓**SUMMARY**\n",
    "\n",
    "* 💻 we have set up access to the server we are using, \n",
    "* 👊 familiarized ourselves with the JupyterLab interface, \n",
    "* 🔍 and dabbled in command-line usage! \n",
    "  \n",
    "--- \n",
    "\n",
    "<sub> © Carl-Eric Wegner, 2023-08 </sub>"
   ]
  },
  {
   "cell_type": "code",
   "execution_count": null,
   "id": "e681e7f0-92ba-42b4-b0ef-a38c45fd9cc4",
   "metadata": {},
   "outputs": [],
   "source": []
  }
 ],
 "metadata": {
  "kernelspec": {
   "display_name": "Bash",
   "language": "bash",
   "name": "bash"
  },
  "language_info": {
   "codemirror_mode": "shell",
   "file_extension": ".sh",
   "mimetype": "text/x-sh",
   "name": "bash"
  }
 },
 "nbformat": 4,
 "nbformat_minor": 5
}
