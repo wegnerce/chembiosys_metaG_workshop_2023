{
 "cells": [
  {
   "cell_type": "markdown",
   "id": "9fc2d318-fd14-4b63-9e22-386b0e58ad4f",
   "metadata": {},
   "source": [
    "# ChemBioSys and AquaDiva | Genome-resolved metagenomics workshop"
   ]
  },
  {
   "cell_type": "markdown",
   "id": "238d8051-f3cd-48f3-96fb-24790ab5221f",
   "metadata": {},
   "source": [
    "This is your interactive course script that is designed as [`Jupyter Notebook`](https://jupyter.org/), an interactive computational document that allows you to execute the code/tools we are using throughout the course in a browser window. You find here all the background information plus instructions needed for the individual parts of the course.\n",
    "\n",
    "## In a nutshell\n",
    "This workshop aims to provide you with detailed insights into  genome-resolved metagenomics. We will familiarize ourselves with the needed knowledge about the [`Linux commandline`](https://www.gnu.org/software/bash/), and progress through the bioinformatic analyses that are necessary to reconstruct genomes from metagenome datasets.\n",
    "\n",
    "The contents of the course are summarized in the figure below, the course day will be accompanied by short discussions/presentations about the aspects we are working on.\n",
    "\n",
    "<img src=\"img/chembiosys_metaG_workshop.png\" alt=\"Course contents\" width=\"750\"/>"
   ]
  },
  {
   "cell_type": "markdown",
   "id": "4b8984f1-1bbd-4eb7-b828-580bfb1a6273",
   "metadata": {},
   "source": [
    "## The (rough) schedule\n",
    "\n",
    "| **Course day** | **To do**                                                      | **Discussions / Presentations**                                          |\n",
    "|----------------|----------------------------------------------------------------|--------------------------------------------------------------------------|\n",
    "| _1 - morning_  | CLI 101, QAQC sequencing data                                  | Sequencing methods, past, present, future                                |\n",
    "|                |                                                         **COFFEE BREAK 10.45-11.00**                                                      |   \n",
    "|                | Short-read taxonomic profiling, metagenome coverage estimation | A few words about study design and metagenomics                          |\n",
    "|                |                                                         **LUNCH BREAK 12.30-1.30**                                                        |\n",
    "| _1 - afternoon_ | Metagenome assembly, binning, bin refinement                   | How do assembly and binning work                                        |\n",
    "|                |                                                         **COFFEE BREAK 3.00-3.15**                                                        |\n",
    "|                | Assessing genome completeness/contamination, taxonomic placement | The beauty of single copy marker genes                                 |\n",
    "| _2 - morning_  | Phylogenomics                                                  | Things you need to know about phylogenetics/-omics                       |\n",
    "|                |                                                         **COFFEE BREAK 10.45-11.00**                                                      |   \n",
    "|                | Pangenomics                                                    | What is a pangenome and what is it good for                              |\n",
    "|                |                                                         **LUNCH BREAK 12.30-1.30**                                                        |\n",
    "| _2 - afternoon_ | Mining biosynthetic gene clusters                             | Background antiSMASH and related tools                                   |\n",
    "|                |                                                         **COFFEE BREAK 3.00-3.15**                                                        |\n",
    "|                |                                                         **OPEN DISCUSSION**                                                               |\n",
    "\n",
    "## Managing expectations\n",
    "\n",
    "Based on the survey we did with you, we know that most of you have very limited or basic knowledge about commandline work, sequence data processing as a whole, and genome-resolved metagenomics. At the same time, some of you have probably a very comprehensive background regarding some of the contents covered. This is no one-size-fits-all workshop, but we try to address your interests best possible.\n",
    "\n",
    "After finishing the workshop you should...:\n",
    "\n",
    "* ... have a good understanding of the steps involved when doing genome-resolved metagenomics,\n",
    "* ... be aware of shortcomings, bottlenecks, and ways to solve problems that typically arise,\n",
    "* ... know how to get started with genome-resolved metagenomics on your own.\n",
    "\n",
    "Feel free to ask/approach us throughout the workshop if you have particular questions that we maybe don't cover in depth 😉."
   ]
  },
  {
   "cell_type": "markdown",
   "id": "16722d16-8838-4a78-8627-9b4234b095f7",
   "metadata": {},
   "source": [
    "## Session 00 | Getting everything up and running\n",
    "\n",
    "For the workshop, we use computing resources provided by the German Network for Bioinformatics Infrastructure [`deNBI`](https://www.denbi.de/cloud). For every participant we have created a virtual machine (VM) with the following specs:\n",
    "\n",
    "* 28 VCPUs\n",
    "* 64 GB RAM\n",
    "* 50 GB root disk\n",
    "\n",
    "Each virtual maschine (VM) comes with [`Ubuntu`](https://ubuntu.com/) as pre-installed OS, and features [`JupyterLab`](https://jupyter.org/) as frontend for accessing [`Jupyter Notebooks`](https://jupyter-notebook.readthedocs.io/en/latest/). See below.\n",
    "\n",
    "### Connecting to the deNBI server\n",
    "\n",
    "To access `deNBI` virtual machines you either need a regular [`LifeScience RI`](https://lifescience-ri.eu/home.html) account, or a `deNBI` _hostel account_. You find instructions about how to get a _hostel account_ [here](https://signup.aai.lifescience-ri.eu/non/registrar/?vo=lifescience_hostel&targetnew=https%3A%2F%2Flifescience-ri.eu%2Faai%2Fhow-use&targetexisting=https%3A%2F%2Flifescience-ri.eu%2Faai%2Fhow-use&targetextended=https%3A%2F%2Flifescience-ri.eu%2Faai%2Fhow-use).\n",
    "\n",
    "<img src=\"img/hostel_account.png\" alt=\"Hostel account\" width=\"750\"/>\n",
    "\n",
    "<font size=\"2\"><i> Signing up for a hostel account. </i></font>\n",
    "\n",
    "\n",
    "We have assigned one VM to each participant and provided each of you with details how to connect to the VM and access `JupyterLab`.\n",
    "\n",
    "<img src=\"img/deNBI_login.png\" alt=\"Connect\"/>\n",
    "\n",
    "<font size=\"2\"><i> How to connect. </i></font>\n",
    "\n",
    "We only need access to the `JupyterLab` frontend.\n"
   ]
  },
  {
   "cell_type": "markdown",
   "id": "341a1299-f049-405b-ad6a-8eee5052fe40",
   "metadata": {},
   "source": [
    "## Session 00 | Using Jupyter Notebooks\n",
    "\n",
    "`Jupyter Notebooks` are interactive, computational documents, they are shareable documents that combine (executable) computer code, plain language descriptions, data (output, think graphs, tables), and interactive controls. Opening a notebook using `JupyterLab` as graphical interface gives us a fast, easy to use environment for prototyping commands and tools.\n",
    "\n",
    "![Say hello to the GUI](img/jupyter_GUI.png)\n",
    "\n",
    "`Jupyter Notebooks` contain two different types of _cells_, _markdown cells_ and _code cells_. _Markdown cells_ contain formatted text. What you read right now is such a _markdown cell_. [`Markdown`](https://en.wikipedia.org/wiki/Markdown) is a \"lightweight markup language for creating formatted text\". If you _DOUBLE CLICK_ into the cell you read right now, you can see the formatting. A comprehensive guide to the `Markdown` syntax can be found [here](https://www.markdownguide.org/). \n",
    "\n",
    "---\n",
    "❗**NOTE**\n",
    "\n",
    "What makes `Jupyter Notebooks` even more awesome is that you can modify them while you use them. They are **not static**. You _DOUBLE CLICK_ a cell, modify it as you want (think additional comments), and run it (in the case of a markdown cell translates into \"typesetting\" it. To run a cell click either the _PLAY_ button or hit _SHIFT+ENTER_.\n",
    "\n",
    "---\n",
    "\n",
    "Below you find a _code cell_. Throughout the workshop we use _code cells_ to execute code on the commandline."
   ]
  },
  {
   "cell_type": "code",
   "execution_count": null,
   "id": "ef628716-40fd-45ea-afdf-806be352e252",
   "metadata": {},
   "outputs": [],
   "source": [
    "### An empty code cell\n",
    "### every line starting with a \"#\" is considered a comment and not executed"
   ]
  },
  {
   "cell_type": "markdown",
   "id": "b4209f4a-bafb-4f24-8918-3871d24c68b2",
   "metadata": {},
   "source": [
    "During the workshop, we work through different `Jupyter Notebooks` that are executed on the `deNBI` server we have access to. \n",
    "\n",
    "## Session 00 | Basics of using the command-line interface (CLI)\n",
    "\n",
    "Linux is king in bioinformatics, which makes the CLI omnipresent when you deal with any random task in bioinformatics. Let's spend some time familiarizing ourselves with a few basic, and useful commands.\n",
    "\n",
    "Below you find a couple of _code cells_ that show what some exemplary commands/tools are doing.\n",
    "\n",
    "---\n",
    "❗**NOTE**\n",
    "\n",
    "You know your way around the CLI? **Excellent**, the part below is really just optional and for participants that are not so familiar with the CLI yet.\n",
    "\n",
    "---\n",
    "\n",
    "### Getting to know some basic commands"
   ]
  },
  {
   "cell_type": "code",
   "execution_count": 1,
   "id": "1ce6bb0d-9eb4-4ed5-b305-bcfa92a4a857",
   "metadata": {
    "scrolled": true
   },
   "outputs": [
    {
     "name": "stdout",
     "output_type": "stream",
     "text": [
      "/home/ubuntu\n",
      "total 16K\n",
      "drwxrwxr-x  5 ubuntu ubuntu 4.0K Sep  7 06:12 DBs\n",
      "drwxrwxr-x  3 ubuntu ubuntu 4.0K Sep  9 08:30 notebooks\n",
      "drwxrwxr-x  2 ubuntu ubuntu 4.0K Sep 10 21:38 conda_env\n",
      "drwxrwxr-x 14 ubuntu ubuntu 4.0K Sep 11 12:09 workshop\n"
     ]
    }
   ],
   "source": [
    "### We move into our home directoy\n",
    "cd ~\n",
    "### Print the working directory (where are we)\n",
    "pwd\n",
    "### We move to the data directory within our home folder\n",
    "cd data\n",
    "### The ls=list command allows us to show the content of the data folder\n",
    "ls -lrth\n",
    "### The data folder contains several subfolders\n",
    "### containing needed databases, used data, the \n",
    "### jupyter notebooks, as well as conda environments\n",
    "### see below"
   ]
  },
  {
   "cell_type": "markdown",
   "id": "19259c84-237f-4b07-b076-894a2b48f3e7",
   "metadata": {},
   "source": [
    "With the first command `cd ~`, you always return to your home directory `/home/<username>`. `cd` stands for change directory and allows you to move to any specified location. The second command `pwd` prints the working directory (aka your current location. With `cd data` we move into the data directory that is located within your home folder. `ls -lrth` shows us then finally the content of data. Everything listed behind `-` » `-lrth` are so-called flags or parameters. `cd`, `pwd`, `ls` are all command-line tools and many of them come with a lot of options, which makes them very versatile and powerful. Let's figure out what these flags `-lrth` are doing. All command-line tools come with a help or manual, which you can, dependent on the tool, call using `<command> --help`, `<command> -h`, or `man <command>`. What does the `ls` help tell us?!"
   ]
  },
  {
   "cell_type": "code",
   "execution_count": 4,
   "id": "6d53cb23-0412-4d7d-a0ae-890d849aa94b",
   "metadata": {},
   "outputs": [
    {
     "name": "stdout",
     "output_type": "stream",
     "text": [
      "Usage: ls [OPTION]... [FILE]...\n",
      "List information about the FILEs (the current directory by default).\n",
      "Sort entries alphabetically if none of -cftuvSUX nor --sort is specified.\n",
      "\n",
      "Mandatory arguments to long options are mandatory for short options too.\n",
      "  -a, --all                  do not ignore entries starting with .\n",
      "  -A, --almost-all           do not list implied . and ..\n",
      "      --author               with -l, print the author of each file\n",
      "  -b, --escape               print C-style escapes for nongraphic characters\n",
      "      --block-size=SIZE      with -l, scale sizes by SIZE when printing them;\n",
      "                               e.g., '--block-size=M'; see SIZE format below\n",
      "  -B, --ignore-backups       do not list implied entries ending with ~\n",
      "  -c                         with -lt: sort by, and show, ctime (time of last\n",
      "                               modification of file status information);\n",
      "                               with -l: show ctime and sort by name;\n",
      "                               otherwise: sort by ctime, newest first\n",
      "  -C                         list entries by columns\n",
      "      --color[=WHEN]         colorize the output; WHEN can be 'always' (default\n",
      "                               if omitted), 'auto', or 'never'; more info below\n",
      "  -d, --directory            list directories themselves, not their contents\n",
      "  -D, --dired                generate output designed for Emacs' dired mode\n",
      "  -f                         do not sort, enable -aU, disable -ls --color\n",
      "  -F, --classify             append indicator (one of */=>@|) to entries\n",
      "      --file-type            likewise, except do not append '*'\n",
      "      --format=WORD          across -x, commas -m, horizontal -x, long -l,\n",
      "                               single-column -1, verbose -l, vertical -C\n",
      "      --full-time            like -l --time-style=full-iso\n",
      "  -g                         like -l, but do not list owner\n",
      "      --group-directories-first\n",
      "                             group directories before files;\n",
      "                               can be augmented with a --sort option, but any\n",
      "                               use of --sort=none (-U) disables grouping\n",
      "  -G, --no-group             in a long listing, don't print group names\n",
      "  -h, --human-readable       with -l and -s, print sizes like 1K 234M 2G etc.\n",
      "      --si                   likewise, but use powers of 1000 not 1024\n",
      "  -H, --dereference-command-line\n",
      "                             follow symbolic links listed on the command line\n",
      "      --dereference-command-line-symlink-to-dir\n",
      "                             follow each command line symbolic link\n",
      "                               that points to a directory\n",
      "      --hide=PATTERN         do not list implied entries matching shell PATTERN\n",
      "                               (overridden by -a or -A)\n",
      "      --hyperlink[=WHEN]     hyperlink file names; WHEN can be 'always'\n",
      "                               (default if omitted), 'auto', or 'never'\n",
      "      --indicator-style=WORD  append indicator with style WORD to entry names:\n",
      "                               none (default), slash (-p),\n",
      "                               file-type (--file-type), classify (-F)\n",
      "  -i, --inode                print the index number of each file\n",
      "  -I, --ignore=PATTERN       do not list implied entries matching shell PATTERN\n",
      "  -k, --kibibytes            default to 1024-byte blocks for disk usage;\n",
      "                               used only with -s and per directory totals\n",
      "  -l                         use a long listing format\n",
      "  -L, --dereference          when showing file information for a symbolic\n",
      "                               link, show information for the file the link\n",
      "                               references rather than for the link itself\n",
      "  -m                         fill width with a comma separated list of entries\n",
      "  -n, --numeric-uid-gid      like -l, but list numeric user and group IDs\n",
      "  -N, --literal              print entry names without quoting\n",
      "  -o                         like -l, but do not list group information\n",
      "  -p, --indicator-style=slash\n",
      "                             append / indicator to directories\n",
      "  -q, --hide-control-chars   print ? instead of nongraphic characters\n",
      "      --show-control-chars   show nongraphic characters as-is (the default,\n",
      "                               unless program is 'ls' and output is a terminal)\n",
      "  -Q, --quote-name           enclose entry names in double quotes\n",
      "      --quoting-style=WORD   use quoting style WORD for entry names:\n",
      "                               literal, locale, shell, shell-always,\n",
      "                               shell-escape, shell-escape-always, c, escape\n",
      "                               (overrides QUOTING_STYLE environment variable)\n",
      "  -r, --reverse              reverse order while sorting\n",
      "  -R, --recursive            list subdirectories recursively\n",
      "  -s, --size                 print the allocated size of each file, in blocks\n",
      "  -S                         sort by file size, largest first\n",
      "      --sort=WORD            sort by WORD instead of name: none (-U), size (-S),\n",
      "                               time (-t), version (-v), extension (-X)\n",
      "      --time=WORD            change the default of using modification times;\n",
      "                               access time (-u): atime, access, use;\n",
      "                               change time (-c): ctime, status;\n",
      "                               birth time: birth, creation;\n",
      "                             with -l, WORD determines which time to show;\n",
      "                             with --sort=time, sort by WORD (newest first)\n",
      "      --time-style=TIME_STYLE  time/date format with -l; see TIME_STYLE below\n",
      "  -t                         sort by time, newest first; see --time\n",
      "  -T, --tabsize=COLS         assume tab stops at each COLS instead of 8\n",
      "  -u                         with -lt: sort by, and show, access time;\n",
      "                               with -l: show access time and sort by name;\n",
      "                               otherwise: sort by access time, newest first\n",
      "  -U                         do not sort; list entries in directory order\n",
      "  -v                         natural sort of (version) numbers within text\n",
      "  -w, --width=COLS           set output width to COLS.  0 means no limit\n",
      "  -x                         list entries by lines instead of by columns\n",
      "  -X                         sort alphabetically by entry extension\n",
      "  -Z, --context              print any security context of each file\n",
      "  -1                         list one file per line.  Avoid '\\n' with -q or -b\n",
      "      --help     display this help and exit\n",
      "      --version  output version information and exit\n",
      "\n",
      "The SIZE argument is an integer and optional unit (example: 10K is 10*1024).\n",
      "Units are K,M,G,T,P,E,Z,Y (powers of 1024) or KB,MB,... (powers of 1000).\n",
      "Binary prefixes can be used, too: KiB=K, MiB=M, and so on.\n",
      "\n",
      "The TIME_STYLE argument can be full-iso, long-iso, iso, locale, or +FORMAT.\n",
      "FORMAT is interpreted like in date(1).  If FORMAT is FORMAT1<newline>FORMAT2,\n",
      "then FORMAT1 applies to non-recent files and FORMAT2 to recent files.\n",
      "TIME_STYLE prefixed with 'posix-' takes effect only outside the POSIX locale.\n",
      "Also the TIME_STYLE environment variable sets the default style to use.\n",
      "\n",
      "Using color to distinguish file types is disabled both by default and\n",
      "with --color=never.  With --color=auto, ls emits color codes only when\n",
      "standard output is connected to a terminal.  The LS_COLORS environment\n",
      "variable can change the settings.  Use the dircolors command to set it.\n",
      "\n",
      "Exit status:\n",
      " 0  if OK,\n",
      " 1  if minor problems (e.g., cannot access subdirectory),\n",
      " 2  if serious trouble (e.g., cannot access command-line argument).\n",
      "\n",
      "GNU coreutils online help: <https://www.gnu.org/software/coreutils/>\n",
      "Report any translation bugs to <https://translationproject.org/team/>\n",
      "Full documentation <https://www.gnu.org/software/coreutils/ls>\n",
      "or available locally via: info '(coreutils) ls invocation'\n"
     ]
    }
   ],
   "source": [
    "### Calling the help of the program ls\n",
    "ls --help"
   ]
  },
  {
   "cell_type": "markdown",
   "id": "1f48720a-f6eb-40b2-baa7-44c96cb52972",
   "metadata": {},
   "source": [
    "You lost your sense of time after the summer break. Check out `cal`."
   ]
  },
  {
   "cell_type": "code",
   "execution_count": null,
   "id": "6a1312ee-6a50-4291-9226-ee31e4065056",
   "metadata": {},
   "outputs": [],
   "source": [
    "### Calling the CLI's calendar\n",
    "cal"
   ]
  },
  {
   "cell_type": "markdown",
   "id": "567a46fc-ef53-49b0-af9e-8d08a04f0fff",
   "metadata": {},
   "source": [
    "You wonder how much memory your maschine has left, let's have a look."
   ]
  },
  {
   "cell_type": "code",
   "execution_count": null,
   "id": "fae95b38-b05a-45f8-b2c4-4ee79cba7708",
   "metadata": {},
   "outputs": [],
   "source": [
    "### How much memory is left\n",
    "free"
   ]
  },
  {
   "cell_type": "markdown",
   "id": "b3dfccfb-e8de-4b6a-bd34-03322e24cb3a",
   "metadata": {},
   "source": [
    "You know you can call the help/manual of any commandline tool. These manual can be really, really long. The [`tldr`](https://tldr.sh/) project is a community effort to streamline the manuals commandline tools and provide useful examples for all of them. Check it out:"
   ]
  },
  {
   "cell_type": "code",
   "execution_count": 3,
   "id": "83aba8f9-4957-480e-aa04-87504d2d41c5",
   "metadata": {},
   "outputs": [
    {
     "name": "stdout",
     "output_type": "stream",
     "text": [
      "ls\n",
      "\u001b[0mList directory contents.More information: https://www.gnu.org/software/coreutils/ls.\n",
      "\n",
      " - \u001b[23;22;24;25;32mList files one per line:\n",
      "\u001b[23;22;24;25;33m   ls -1\n",
      "\u001b[0m\n",
      " - \u001b[23;22;24;25;32mList all files, including hidden files:\n",
      "\u001b[23;22;24;25;33m   ls -a\n",
      "\u001b[0m\n",
      " - \u001b[23;22;24;25;32mList all files, with trailing / added to directory names:\n",
      "\u001b[23;22;24;25;33m   ls -F\n",
      "\u001b[0m\n",
      " - \u001b[23;22;24;25;32mLong format list (permissions, ownership, size, and modification date) of all files:\n",
      "\u001b[23;22;24;25;33m   ls -la\n",
      "\u001b[0m\n",
      " - \u001b[23;22;24;25;32mLong format list with size displayed using human-readable units (KiB, MiB, GiB):\n",
      "\u001b[23;22;24;25;33m   ls -lh\n",
      "\u001b[0m\n",
      " - \u001b[23;22;24;25;32mLong format list sorted by size (descending):\n",
      "\u001b[23;22;24;25;33m   ls -lS\n",
      "\u001b[0m\n",
      " - \u001b[23;22;24;25;32mLong format list of all files, sorted by modification date (oldest first):\n",
      "\u001b[23;22;24;25;33m   ls -ltr\n",
      "\u001b[0m\n",
      " - \u001b[23;22;24;25;32mOnly list directories:\n",
      "\u001b[23;22;24;25;33m   ls -d */\n",
      "\u001b[0m\u001b[0m\n"
     ]
    }
   ],
   "source": [
    "### Call tldr for ls\n",
    "tldr ls"
   ]
  },
  {
   "cell_type": "markdown",
   "id": "f3f59e53-7575-4cc9-9635-fd88c92c5215",
   "metadata": {},
   "source": [
    "One concept that is often not easy to grasp for users that are new to the commandline is the difference between _relative_ and _absolute_ paths.\n",
    "\n",
    "An _absolute_ path begins with the root directory and follows the tree branch by branch until the path to the desired directory or file is completed. What does that mean? On Linux maschines, there is a directory that contains a lot of the systems programs `/usr/bin`. In the `root` directory, there is a directory called `usr` that contains a directory called `bin`.\n",
    "\n",
    "The difference between _absolute_ and _relative_ paths is that a _relative_ path starts from the current working directory. A couple of special symbols are used to represent relative positions in the file system: `.` refers to the working directoy and `..` to the working directory's parent directory."
   ]
  },
  {
   "cell_type": "code",
   "execution_count": null,
   "id": "bcda2f37-3689-429b-88b5-eb3805fc7c27",
   "metadata": {},
   "outputs": [],
   "source": [
    "### We move to /usr/bin\n",
    "cd /usr/bin\n",
    "pwd\n",
    "### The parent directory of /usr/bin is /usr\n",
    "### we can get there by using absolute and relative paths\n",
    "### 1| absolute path\n",
    "cd /usr\n",
    "### 2| relative path\n",
    "cd bin/\n",
    "pwd\n",
    "cd ~"
   ]
  },
  {
   "cell_type": "markdown",
   "id": "00c957d6-a6d8-4e2b-ba3f-68a703289a46",
   "metadata": {},
   "source": [
    "We are lazy, we usually opt for the method that requires the least typing 😁.\n",
    "\n",
    "You can use your newly acquired \"navigation skills\" to check out the filesystem of your maschine a bit. Below you find some interesting directories/locations that are common for any Linux-based system.\n",
    "\n",
    "### A (kind of) guided tour of the filesystem\n",
    "\n",
    "You know how to move using the commandline, let's use this knowledge to check out the file system.\n",
    "\n",
    "|  **Directory** | **Comments**                                                     |\n",
    "|----------------|------------------------------------------------------------------|\n",
    "|      /         | the root directory                                               |\n",
    "|      /bin      | programs needed by the system to boot and run                    |\n",
    "|      /etc      | contains system-wide configuration files                         | \n",
    "|      /home     | each user has a directory in home                                |\n",
    "|      /opt      | contains \"optional software\"                                     |\n",
    "|      /root     | home folder of the root user (=sys admin)                        |\n",
    "|      /tmp      | place for temporary, transient files                             |\n",
    "|      /usr      | contains programs and support files used by users                |\n",
    "|      /usr/bin  | executable programs held by the Linux system                     |\n",
    "|      /var/log  | log files, records of system activity                            |"
   ]
  },
  {
   "cell_type": "code",
   "execution_count": null,
   "id": "7efe96b9-7782-4743-bb61-afbce2674e79",
   "metadata": {},
   "outputs": [],
   "source": [
    "### How many programs does /usr/bin hold\n",
    "cd /usr/bin\n",
    "### ls lists the content of a directory\n",
    "### here we pipe \"|\" its output into another program wc\n",
    "### wc counts lines, words, etc. here it counts all files present\n",
    "ls | wc -l"
   ]
  },
  {
   "cell_type": "markdown",
   "id": "0733a66c-91b5-4576-87ef-09d76d865fe8",
   "metadata": {},
   "source": [
    "### Dealing with files and directories\n",
    "\n",
    "When you work on the commandline you constantly deal with files and directories, below you find some examples regarding commands that are needed to manipulate them.\n",
    "\n",
    "#### Wildcards\n",
    "\n",
    "One aspect that makes working with the commandline so powerful, and which adds a touch of magic to it, are _wildcards_. Wildcards are special characters that allow you to specify group of files. Wildcards can be used with any command that accepts filenames and directories as arguments.\n",
    "\n",
    "|  **Wildcard**  | **Match**                                                        |\n",
    "|----------------|------------------------------------------------------------------|\n",
    "|   *            | any characters                                                   |\n",
    "|   ?            | any single character                                             |\n",
    "|   \\[ABC\\]      | any character specified in [], here A, B, or C                   | \n",
    "|  \\[!ABC\\]      | any character NOT specified in []                                |\n",
    "|  \\[:class:\\]   | any character that is a member of \"class\", see below             |\n",
    "|  \\[:alnum:\\]   | any alphanumeric character                                       |\n",
    "|  \\[:alpha:\\]   | any alphabetic character                                         |\n",
    "|  \\[:digit:\\]   | any numeral                                                      | \n",
    "|  \\[:lower:\\]   | any lowercase letter                                             |\n",
    "|  \\[:upper:\\]   | any uppercase letter                                             |\n",
    "\n",
    "#### mkdir, cp, mv, rm\n",
    "\n",
    "The `mkdir` command is used to create directories."
   ]
  },
  {
   "cell_type": "code",
   "execution_count": null,
   "id": "f5850af8-1106-47e2-9a86-545f8e8a0a94",
   "metadata": {},
   "outputs": [],
   "source": [
    "### Let's create a directory and move into it\n",
    "cd ~/data/workshop\n",
    "mkdir 00_CLI\n",
    "cd 00_CLI\n",
    "### You can create multiple directories at once\n",
    "mkdir test1 test2 test3\n",
    "ls -lrt"
   ]
  },
  {
   "cell_type": "markdown",
   "id": "c23eac5c-017c-4637-b2a1-ca70722e7cf4",
   "metadata": {},
   "source": [
    "The `cp` command copies files or directories."
   ]
  },
  {
   "cell_type": "code",
   "execution_count": null,
   "id": "c30ec4bd-030e-4d45-a6de-a57f5de6756e",
   "metadata": {},
   "outputs": [],
   "source": [
    "### We create an empty .txt file with touch\n",
    "pwd\n",
    "touch test.txt\n",
    "### and copy it from test.txt to new.txt\n",
    "cp test.txt new.txt\n",
    "### you can copy files into directories the same way\n",
    "cp new.txt test1/\n",
    "### check out the options of cp for commonly used options .e.g -R\n",
    "tldr cd"
   ]
  },
  {
   "cell_type": "markdown",
   "id": "16d6a8ce-6d91-49c0-b76e-c0b90a9a3ebe",
   "metadata": {},
   "source": [
    "`mv`is used in very much the same way as `cp`. In comparison to `cp`, imagine _copy & paste_, `mv` is equivalent to _cut & paste_."
   ]
  },
  {
   "cell_type": "code",
   "execution_count": null,
   "id": "61ee364a-2437-4523-8429-e49fc891fe4d",
   "metadata": {},
   "outputs": [],
   "source": [
    "### Move new.txt\n",
    "mv new.txt test2/\n",
    "### check out the options of mc for commonly used options .e.g -i\n",
    "tldr mv"
   ]
  },
  {
   "cell_type": "markdown",
   "id": "1d79ffd1-1526-4716-a2de-b449ef75c4ab",
   "metadata": {},
   "source": [
    "### A quick word about conda\n",
    "\n",
    "Throughout the course we use many different software tools. A lot of these tools have conflicting dependencies (tool X relies on package Z, tool Y too, but tool Y needs version 0.2 of Z, while tool X needs version 0.1). In order to have them available anyway, we use `virtual environments` (and `container`) a lot in bioinformatics.\n",
    "\n",
    "`conda` is a package manager and tool to set up and manage `virtual environments`. `Virtual environments` can be best imagined as encapsulations that are to a certain extent isolated from the respective computer system/operating system. \n",
    "\n",
    "By default, every user on our servers can make use of global `conda` environments.\n",
    "\n",
    "One can check available `conda` environments as follows:\n",
    "\n",
    "`conda info --envs`\n",
    "\n",
    "Environments are activated and deactivated using the following commands:\n",
    "\n",
    "`conda activate <name_of_environment>`\n",
    "\n",
    "`conda deactivate`\n",
    "\n",
    "### Glossary\n",
    "\n",
    "Below you find the definitions of common metagenomics vocabulary (modified from [here](https://anvio.org/vocabulary/)).\n",
    "\n",
    "`Read recruitment`: A set of computational strategies to align sequencing reads to one or more reference sequences, read recruitment is the basis for the determination of coverage.\n",
    "\n",
    "`Coverage`: Average number of reads that map to each (!) nucleotide position in a reference sequence. Proxy for abundance in the context of metagenome analysis.\n",
    "\n",
    "`Detection`: The proportion of nucleotides in a given reference sequence that are covered by at least one short read.\n",
    "\n",
    "`Contigs`: A contiguous segment of DNA that is often ‘assembled’ from short reads or long rads, but still represents only a fraction of the longer context to which it belongs.\n",
    "\n",
    "`Binning`: Grouping contigs that belong to the same population, often based on differential coverage and sequence composition data (e.g. GC-content, k-mer profiles).\n",
    "\n",
    "`MAG`: A genome that is reconstructed or recovered from a metagenome, people also often refer to bins.\n",
    "\n",
    "`Population`: Co-existing microbes in an environment whose genomes are similar enough to map to the context of the same reference genome.\n",
    "\n",
    "`Metagenome`: The entire DNA content of an environment, includes extracellular DNA, can include host DNA when looking for instance at gut or plant microbiomes.\n",
    "\n",
    "`Pangenome`:  entire collection of genes found in two or more genomes.\n",
    "\n",
    "`Phylogenomics`: The practice of inferring evolutionary history and relationships between different organisms, based on genomic differences across multiple conserved genes.\n",
    "\n",
    "`Gene cluster`: Fundamental units of pangenomes which appear in the literature also as ‘protein clusters’, ‘orthogroups’, ‘groups of orthologous genes’, or ‘operational protein families’ (and they should not be confused with biosynthetic gene clusters which describe functionally related genes that belong to the same operon in a single chromosome). Commonly used computational strategies for pangenomics that consider entire contents of input genomes determine gene clusters typically by (1) identifying all genes among a set of genomes, (2) computing similarities between each gene using translated DNA sequences, and (3) determining which genes are homologous enough to be described in the same cluster. Hence, a gene cluster in a given pangenome corresponds to a de novo identified virtual construct that contain one or more genes from one or more genomes.\n",
    "\n",
    "\n",
    "`Single-copy core gene`: A gene that is found in the vast majority of genomes and yet occurs only once within a single genome.\n",
    "\n",
    "`Completion`: A rough estimate of how completely a set of contigs represents a full genome based on the presence or absence of single-copy core genes (SCGs) they contain. \n",
    "\n",
    "`Redundancy/Contamination`: A measure of how many copies of each single-copy core gene (SCG) is found within a genome. Due to the special single-copy nature of SCGs, their occurrence as multi-copy in a genome is commonly used as an estimate of the level of ‘contamination’ within a genome bin.\n"
   ]
  },
  {
   "cell_type": "markdown",
   "id": "6d2abfbf-1f2c-4354-b9b8-c3673a1d8501",
   "metadata": {},
   "source": [
    "\n",
    "---\n",
    "🔓**SUMMARY**\n",
    "\n",
    "* 💻 we have set up access to the server we are using, \n",
    "* 👊 familiarized ourselves with the JupyterLab interface, \n",
    "* 🔍 and dabbled in command-line usage! \n",
    "  \n",
    "--- \n",
    "\n",
    "<sub> © Carl-Eric Wegner, 2023-08 </sub>"
   ]
  }
 ],
 "metadata": {
  "kernelspec": {
   "display_name": "Bash",
   "language": "bash",
   "name": "bash"
  },
  "language_info": {
   "codemirror_mode": "shell",
   "file_extension": ".sh",
   "mimetype": "text/x-sh",
   "name": "bash"
  }
 },
 "nbformat": 4,
 "nbformat_minor": 5
}
