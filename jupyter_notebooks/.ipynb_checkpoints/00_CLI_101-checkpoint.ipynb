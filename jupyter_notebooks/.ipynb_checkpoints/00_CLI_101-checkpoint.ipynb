{
 "cells": [
  {
   "cell_type": "markdown",
   "id": "7085bb52-1062-489f-8f28-bf4b1ecbb795",
   "metadata": {},
   "source": [
    "# \"Molecular Microbial Ecology\" MBGW2.2.3"
   ]
  },
  {
   "cell_type": "markdown",
   "id": "396f5009-2cb5-42ca-b0f6-5e0dc42fb478",
   "metadata": {},
   "source": [
    "This is your interactive course script that is designed as [`Jupyter Notebook`](https://jupyter.org/), an interactive computational document that allows you to execute the code/tools we are using throughout the course in a browser window. You find here all the background information plus protocols needed for the individual parts of the course."
   ]
  },
  {
   "cell_type": "markdown",
   "id": "9fb7bb8b-011f-4a50-8e34-c5439e095f66",
   "metadata": {},
   "source": [
    "## In a nutshell"
   ]
  },
  {
   "cell_type": "markdown",
   "id": "c449f1a9-5911-47b7-bdf7-d6d7dc348300",
   "metadata": {},
   "source": [
    "The practical course aims at providing you with a detailed insight into one method that we covered heavily during the seminar part of the module - genome-resolved metagenomics. We will familiarize ourselves with the needed knowledge about the [`Linux commandline`](https://www.gnu.org/software/bash/), and progress through the bioinformatic analyses that are necessary to reconstruct genomes from metagenome datasets.\n",
    "\n",
    "The contents of the course are summarized in the figure below, the course day will be accompanied by short presentations about the aspects we are working on.\n",
    "\n",
    "<img src=\"img/metgenomics_v4.png\" alt=\"Course contents\" width=\"750\"/>"
   ]
  },
  {
   "cell_type": "markdown",
   "id": "aa72b2b0-3f04-45d4-a686-9ff9d57a7d68",
   "metadata": {},
   "source": [
    "## The (rough) schedule"
   ]
  },
  {
   "cell_type": "markdown",
   "id": "66be84f7-0025-44b5-aea2-81d11001a291",
   "metadata": {},
   "source": [
    "| **Course day** | **To do**                                                      | **Short presentation(s)**                                                     |\n",
    "|----------------|----------------------------------------------------------------|--------------------------------------------------------------------------|\n",
    "|       (1)      | Introduction commandline work, QAQC sequencing data            | Assessing DNA sequence data                                              |\n",
    "|       (2)      | Metagenome assembly + Binning                                  | The blackbox of (meta)genome assembly \\| Binning and how to do it        |\n",
    "|       (3)      | Assessing genome completeness/contamination, genome annotation | Determining MAG quality \\| Genome annotation \\|Open questions \\| WRAP UP |"
   ]
  },
  {
   "cell_type": "markdown",
   "id": "af8d02aa-9b75-48ac-b508-f5727812e93b",
   "metadata": {},
   "source": [
    "## Session 00 | Getting everything up and running\n",
    "The university provides central computing infrastructure, but we also maintain a couple of servers in our group for day-to-day bioinformatics work. Bioinformatics involves usually a lot of different tools and setting them up can be laborious and painful. No worries, you won't have to deal with any of that. All the tools we need for the course are installed and configured on one of our servers - \"LUMOS\".\n",
    "\n",
    "We have to make one thing sure though, namely that you can access LUMOS from your machine. As you bring your own laptops you will access the internet (and the local university network) from the _eduroam_ wi-fi of the FSU.\n",
    "\n",
    "Being connected to _eduroam_ should be enough to access our groups server infrastructure, but it might be necessary to connect to the VPN of the university. You can look up instructions for connecting to the VPN of the university online. For the sake of completeness, the instructions are also outlined here. Please make sure that you can connect to the VPN of the university *before* the class. Troubleshooting things like that during the course is literally a blackhole for time ;-).\n",
    "\n",
    "The instructions below assume that you are working with a Windows maschine. If you use a MAC or LINUX (_I salute you!_), let me know via email before the course and I can explain you how to do it using your respective OS."
   ]
  },
  {
   "cell_type": "markdown",
   "id": "e2f6fd09-0188-4445-8ae6-1640d9b76b70",
   "metadata": {},
   "source": [
    "### Setting up the VPN\n",
    "\n",
    "* Download the Cisco AnyConnect Secure Mobility Client, the program is available from [here](http://www.uni-jena.de/VPN_Zugang.html) and install it.\n",
    "\n",
    "* Start the client.\n",
    "\n",
    "![After you install the client you see it listed in the programs](img/cisco_1.png)\n",
    "\n",
    "* Enter the VPN address of the FSU.  \n",
    "\n",
    "![You need the FSU VPN address](img/cisco_2.png)\n",
    "\n",
    "* Specify your FSU username, in my case this is for instance lu87neb.  \n",
    "\n",
    "![You need your URZ credentials as well](img/cisco_3.png)\n",
    "\n",
    "After this step you should find the icon of the Cisco client in the task bar. Right-clicking on the icon allows you to modify the settings and to close the VPN connection.\n",
    "\n",
    "![If everything works you see the icon of the Cisco client in the task bar](img/cisco_4.png)."
   ]
  },
  {
   "cell_type": "markdown",
   "id": "fd5343c2-c64c-45ed-b11b-5b1e1de4300c",
   "metadata": {},
   "source": [
    "### Connecting to the server\n",
    "\n",
    "For accessing the server from Windows we use a client program called [_MobaXTerm_](https://mobaxterm.mobatek.net/). You can find the installation instructions for MobaXTerm [here](https://www.youtube.com/watch?time_continue=17&v=E1rMooFomHM&feature=emb_logo).\n",
    "\n",
    "Once you have installed MobaXTerm you can connect to our server as follows:\n",
    "\n",
    "* Start MobaXTerm, you are greeted by a window with a lot of buttons, but do not despair.\n",
    "\n",
    "![The MobaXTerm interface.](img/mobax_1.png)\n",
    "\n",
    "* Click on *Start local terminal* and you end up on a commandline. Enjoy the feeling of being a hacker for a moment before we go on 😀.\n",
    "\n",
    "![Say hello to the MobaXTerm Terminal](img/mobax_2.png)\n",
    "\n",
    "For connecting to our server we use the ssh command, which establishes a secure connection. The default syntax is `#!bash ssh user@remote_machine`. For the course we have set up a couple of user accounts: mbgw223_01, mbgw223_02, mbgw223_03, ... . The IP address of the server we want to work on is 10.232.56.10. Below you find the user assignment for the course:\n",
    "\n",
    "|         **Name**    | **Login**   | **SSH command**                                                          |\n",
    "|---------------------|-------------|--------------------------------------------------------------------------|\n",
    "| Rena Sophie Andräs  | mbgw223_01  | ssh -L 8889:localhost:8889 mbgw223_01@10.232.56.10                       |\n",
    "| Arezoo Enayati      | mbgw223_02  | ssh -L 8890:localhost:8890 mbgw223_01@10.232.56.10                       |\n",
    "| Dounia Smail        | mbgw223_03  | ssh -L 8891:localhost:8891 mbgw223_01@10.232.56.10                       |\n",
    "\n",
    "The password for all users is \"microbiome\" (omit the \"\"...). The slightly modified command above allows us to have graphical user interface in our local browser, which allows us to execute code on the server.\n",
    "\n",
    "![Using SSH to connect to our server](img/mobax_8.png)\n",
    "\n",
    "* After entering the password you are greeted by the server and we will spend a bit of time with some basic and useful commandline tools.\n",
    "\n",
    "* You can use `#!bash ls` to check the contents of the directory you are currently in (aka your home directory). You see one folder *data*. Let's move into this directory and have a look at its content.\n",
    "\n",
    "```\n",
    "#! cd data\n",
    "#! ls\n",
    "```\n",
    "\n",
    "![Checking the content of your home directory](img/mobax_9.png)\n",
    "\n",
    "* Within the *data* you are greeted by emptiness.\n",
    "\n",
    "And now we are all set 😎😎😎!\n"
   ]
  },
  {
   "cell_type": "markdown",
   "id": "d9ccb9c0-93b3-4bb4-afe4-9d73362bc52a",
   "metadata": {},
   "source": [
    "## Using Jupyter Notebooks\n",
    "\n",
    "`Jupyter Notebooks` as said above, are interactive, computational documents. During the course we execute them on one of our inhouse servers. `Jupyter Notebooks`, when executed come with a graphical user interface (GUI) that you can access via standard internet browsers. Servers by default don't come with browsers and GUIs. In order to take full advantage of `Jupyter Notebooks` we connect to the used server in a way that allows us to access the `Jupyter Notebooks` GUI locally.\n",
    "\n",
    "`ssh -L 8889:localhost:8889 mbgw223_01@10.232.56.10`\n",
    "\n",
    "`http://localhost:8889/`\n",
    "\n",
    "The upper command establishes the connection to the server, the `Jupyter Notebooks` GUI is forwarded from the server via port `8889` (a port is a virtual point for establishing network connections). You can paste the address below to access the the `Jupyter Notebooks` GUI. The password is \"microbiome\" for all users. Once you have entered the password, you are greeted by the GUI.\n",
    "\n",
    "![Say hello to the GUI](img/jupyter_GUI.png)\n",
    "\n",
    "## Command-line interface (CLI) 101\n",
    "\n",
    "Linux is king in bioinformatics, which makes the CLI omnipresent when you deal with any random task in bioinformatics. Let's spend some time familiarizing ourselves with a few basic, and useful commands."
   ]
  },
  {
   "cell_type": "code",
   "execution_count": null,
   "id": "047cf8ca-a06a-4bbf-b549-7025a8f1da4b",
   "metadata": {
    "scrolled": true
   },
   "outputs": [],
   "source": [
    "# Finding your way around\n",
    "cd ~\n",
    "pwd\n",
    "cd data\n",
    "ls -lrth"
   ]
  },
  {
   "cell_type": "markdown",
   "id": "0aa97806-441a-4642-a98e-eefe75e21876",
   "metadata": {},
   "source": [
    "With the first command `cd ~`, you always return to your home directory `/home/<username>`. `cd` stands for change directory and allows you to move to any specified location. The second command `pwd` prints the current directory (aka your current location. With `cd data` we move into the data directory that is located within your home folder. `ls -lrth` shows us then finally the content of data. Everything listed behind `-` » `-lrth` are so-called flags or parameters. `cd`, `pwd`, `ls` are all command-line tools and many of them come with a lot of options, which makes them very versatile and powerful. Let's figure out what these flags `-lrth` are doing. All command-line tools come with a help or manual, which you can, dependent on the tool, call using `<command> --help`, `<command> -h`, or `man <command>`. What does the `ls` help tell us?!"
   ]
  },
  {
   "cell_type": "code",
   "execution_count": null,
   "id": "e13d0512-6198-41cd-8ef3-d55723393830",
   "metadata": {},
   "outputs": [],
   "source": [
    "# Calling the help of the program ls\n",
    "ls --help"
   ]
  },
  {
   "cell_type": "markdown",
   "id": "8c4e4cd8-d9cb-4d72-8b97-017ec2050993",
   "metadata": {},
   "source": [
    "<div class=\"alert alert-block alert-warning\">\n",
    "<b>QUESTION/TASK:</b> \n",
    "Figure out what the parameters used with `ls` are doing.\n",
    "</div>"
   ]
  },
  {
   "cell_type": "markdown",
   "id": "235efb01-408c-496e-bbd8-e1374fa74e4d",
   "metadata": {},
   "source": [
    "### Summary\n",
    "We\n",
    "* have set up access to the server we are using,\n",
    "* familiarized ourselves with the JupyterLab interface,\n",
    "* and dabbled in command-line usage!\n",
    "\n",
    "<sub> © Carl-Eric Wegner, 2023-08 </sub>"
   ]
  },
  {
   "cell_type": "code",
   "execution_count": null,
   "id": "27c01647-c6d9-4fd2-8008-9d531cc69387",
   "metadata": {},
   "outputs": [],
   "source": []
  }
 ],
 "metadata": {
  "kernelspec": {
   "display_name": "Bash",
   "language": "bash",
   "name": "bash"
  },
  "language_info": {
   "codemirror_mode": "shell",
   "file_extension": ".sh",
   "mimetype": "text/x-sh",
   "name": "bash"
  }
 },
 "nbformat": 4,
 "nbformat_minor": 5
}
