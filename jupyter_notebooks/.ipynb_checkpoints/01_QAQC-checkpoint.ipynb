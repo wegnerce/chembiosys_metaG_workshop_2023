{
 "cells": [
  {
   "cell_type": "markdown",
   "id": "9fdb528b-4da5-4790-b588-36a0acb3cb6b",
   "metadata": {},
   "source": [
    "# \"Molecular Microbial Ecology\" MBGW2.2.3"
   ]
  },
  {
   "cell_type": "markdown",
   "id": "ab801b95-033c-4553-b12f-3dc40e76b4d9",
   "metadata": {},
   "source": [
    "Throughout the course, you will be working with two mock datasets that have been generated _in silico_. Taken together, that means that I have simulated a sequencing run based on the genomes of some selected organisms. The different organisms are differently well-covered in the datasets. This will become relevant further down the road, once we start doing assemblies and genome binning.\n",
    "\n",
    "## Re-cap DNA sequencing\n",
    "\n",
    "Before we dive into sequence data quality assessment and control, we do a little re-cap regarding DNA sequencing. Until the rise of next-generation sequencing (NGS), Sanger sequencing was the \"workhorse\" in terms of DNA sequencing. The first NGS platform was 454/pyrosequencing, which is meanwhile already history, as it was squeezed out by Illumina cycle reversible termination (CRT) sequencing.\n",
    "\n",
    "[This](https://www.nature.com/articles/nrg2626) meanwhile 10+ years old, but still excellent review by Metzker provides a great introduction into NGS.\n",
    "\n",
    "Most NGS techniques/strategies rely on clonally amplified template DNA, this is because the used imaging systems can not resolve single fluorescent events, which are the basis for reading DNA sequences.\n",
    "\n",
    "### Template amplification\n",
    "\n",
    "In the case of Illumina sequencing, clonal amplification is achieved via bridge amplification. Template DNA, treated in a way that it carries flanking primers for subsequent amplification, binds to the surface of a flowcell that is covered with complementary primers. Template DNA is amplified by PCR, wobbles over, binds a \"free\" primer and the process is repeated. The resulting clusters make sure that the fluorescent signals generated during sequencing are sufficiently strong for detection.\n",
    "\n",
    "![Bridge amplification](img/bridge_amplification.jpg)  \n",
    "<font size=\"2\"> Cycle reversible termination sequencing. _© Metzker, 2010_ </font>\n",
    "\n",
    "### Sequencing\n",
    "\n",
    "Illumina sequencing relies, as stated above, on cyclic reversible termination. DNA polymerase bound to the template incorporates one fluorescently labelled nucleotide at a time. Unincorporated nucleotides are washed away and imaging is performed to determine the identity of the incorporated base. The fluorescent dye (which blocks and prevents further nucleotide incorporation) is cleaved away and the cycle is repeated.\n",
    "\n",
    "![Bridge amplification](img/CRT.jpg)  \n",
    "<font size=\"2\"> Bridge amplification, clonal DNA template is amplified to guarantee sufficiently strong fluorescent signals during sequencing. _© Metzker, 2010_ </font>\n",
    "\n",
    "### Sequencing library preparation\n",
    "\n",
    "Library preparation comprises the following stages:\n",
    "\n",
    "1. Shearing\n",
    "2. End-repair and adapter ligation\n",
    "3. PCR enrichment\n",
    "\n",
    "### Shearing\n",
    "Remember, we want high-quality DNA for sequencing. For downstream bridge amplification, gDNA has to be sheared, otherwise the resulting clusters blend into each other. DNA shearing can be done by ultrasound or enzymatically. The latter tends to introduce a bias since enzymatic fragmentation is not random.\n",
    "\n",
    "<div class=\"alert alert-block alert-warning\">\n",
    "<b>QUESTION/TASK:</b> \n",
    "How does the length of the template DNA affect clonal amplification and potentially sequencing?!\n",
    "</div>\n",
    "\t\n",
    "### End-repair and adapter ligation\n",
    "For clonal amplification and sequencing, sheared template DNA must be able to bind to the flowcell. Binding is mediated by adapters/primers that are complementary to primers present on the flowcell. Adapters are added enzymatically by ligation, once the template DNA is end-repaired. End-repaired means the template DNA carries a 3' adenine overhang, which is used to ligate the adapters (see the flowchart below). \n",
    "\n",
    "The adapters look like a hairpin, with a uracil in the middle. This uracil functions as cutting side for the USER enzyme. As a result of this cutting, 5' and 3' ends are now flanked by adapters.\n",
    "\n",
    "### PCR enrichment\n",
    "The adapters function as primers for a subsequent PCR that is used to add the sequencing primers (plus barcodes to distinguish samples) to the template DNA. These primers, labelled P5 and P7 in the flowchart, bind the flowcell and are the starting point for CRT-based sequencing.\n",
    "\n",
    "![Library Preparation](img/libprep.jpg)  \n",
    "<font size=\"2\"> Flowchart summarizing the stages of library preparation. _© New England Biolabs_</font>\n",
    "\n",
    "### Quality control of the libraries\n",
    "We quantify the libraries by fluorometry, and assess the size distribution by means of chip-based gelelectrophoresis to save material and because of increased resolution. Chip-based gelelectrophoresis means that we use a microfluidic chip with fine capillaries, which we load with a gel/dye mixture that is pressed into the capillaries. Afterwards samples can be loaded and are separated based on migration through an electric field, just like for \"standard gelelectrophoresis\".\n",
    "\n",
    "The typical layout of such a chip is shown below.\n",
    "\n",
    "<img src=\"img/lab_on_a_chip.jpg\" alt=\"Lab on a chip\" width=\"500\"/>\n",
    "<font size=\"2\"> Layout of a microfluidic chip used for gelelectrophoresis. The chip is loaded with a gel/dye matrix using the gel wells. Samples are loaded via the sample wells. A size standard is loaded via the ladder well. Samples are size-separated based on migration in an electric field. _© Agilent_ </font>\n",
    "\n",
    "## Session 01 | Quality assessment/control of \"raw\" sequencing data\n",
    "\n",
    "OK, with our sequencing knowledge being refreshed, we now want to get our hands dirty with some data. To start, we want to have a look at three exemplary sequence datasets and assess their quality. How do we do that? in the `MBGW223` folder, you find one folder that is called `01_QAQC`. In this folder, you should see three pairs of sequence data files."
   ]
  },
  {
   "cell_type": "code",
   "execution_count": 4,
   "id": "eee42167-4af1-49bb-be01-5d6ddb88c8a5",
   "metadata": {},
   "outputs": [
    {
     "name": "stdout",
     "output_type": "stream",
     "text": [
      "total 176M\n",
      "-rw-rw-r-- 1 lu87neb lu87neb 11M Aug  7 12:24 example_2_R1.fastq\n",
      "-rw-rw-r-- 1 lu87neb lu87neb 11M Aug  7 12:24 example_2_R2.fastq\n",
      "-rw-rw-r-- 1 lu87neb lu87neb 18M Aug  7 12:24 example_1_R2.fastq\n",
      "-rw-rw-r-- 1 lu87neb lu87neb 61M Aug  7 12:24 example_3_R2.fastq\n",
      "-rw-rw-r-- 1 lu87neb lu87neb 18M Aug  7 12:24 example_1_R1.fastq\n",
      "-rw-rw-r-- 1 lu87neb lu87neb 61M Aug  7 12:24 example_3_R1.fastq\n",
      "@NB501242:177:HNKC2BGXC:1:11101:14513:1048 1:N:0:CGTACG\n",
      "ATCGGNTAGCGCACGCAATTCTGCAATGGNATCAACNTCNTTAAGGGCCGTTNGAAGTGTTTGACTTANTCGTTGGGTGATTGCAATGTTCTCAGGAACGACATCAGCAATAAAATCTGCCATCGATGAATAACCAAGTTCCATCAACATT\n",
      "+\n",
      "AAAAA!EEEEEAEEEEAEEEEEEEEEEEE!EEEEEE!EE!EEEEEEEEEEEE!EEEEEEAEEEEEEAE!E6E<E/EEEEEEEAEE/EEEEEAEA/EEEAEAEEEAEEAEEAEEAEAAE<AEAEEEEEEEEEEEEAE<EE/EAEAAEA<EEE\n",
      "@NB501242:177:HNKC2BGXC:1:11101:11479:1049 1:N:0:CGTACG\n",
      "TCTTANAAATACGACTACAACATCAGCAANTTATACNCCNACACTCAATACCNCCTATTACACAACTGTTATTGCAACAAATGCTGGAGGAGATTCTTTAGTGGCAACCTCACTTAATGCTACGTATTACCCCCCCGCAGTAGTTACTGCA\n",
      "+\n",
      "AAAAA!EEEEEEEEEEEEEEEEEEEEEEE!EEEEEE!EA!EEEEEEEEEEEE!EEEEEEEEEEEEEEEEEEEEEEEEEEEEEEEEEEEEEEEEEEEAEEEEEEEAE<EAEEEEEEAAEEEEEEEEEEEEEE<A6<6EEEAEEEEEEE<E/<\n",
      "@NB501242:177:HNKC2BGXC:1:11101:8939:1049 1:N:0:CGTACG\n",
      "AACCANCACTGCACCACAGGACATCCTCANACTCACNCCNACCGAGTGGCGANCTAGACTCAAACCCTGGCATGATGCACACTGGGCCCGACACAACGCCCGCAACCCCAACAATAACCAAGCGTCCATCCTAGCTGCCTTCGAAGAGACC\n"
     ]
    }
   ],
   "source": [
    "# Checking out exemplary sets of sequence data\n",
    "cd ~/data/MBGW223/01_QAQC\n",
    "ls -lrth\n",
    "head example_1_R1.fastq\n"
   ]
  },
  {
   "cell_type": "markdown",
   "id": "bfbbc1af-b5a6-41eb-bbc4-b60fdc28ec6c",
   "metadata": {},
   "source": [
    "OK, we do see a couple of `.fastq` files, in fact three pairs of files `*{R1,R2}.fastq`. We do see pairs, because in all three examples, the template DNA has been sequence in paired-end mode. That means DNA fragments were sequenced from both ends.\n",
    "\n",
    "What are `.fastq` files? You can best imagine them as `.fasta` files on steroids. \n",
    "\n",
    "Quick reminder, `.fasta` files are nothing else but `.txt` filex that are formatted in a particular way.\n",
    "\n",
    "```\n",
    ">header_string optional information_string\n",
    "ATGTCACACACACTAGATACTATAGA\n",
    "```\n",
    "In comparison, `.fastq`files contain more information.\n",
    "\n",
    "![.fastq explained](img/fastq_fig.jpg)  \n",
    "<font size=\"2\"> Explaination of the .fastq file format. © Robert Edgar, _drive5.com_</font>\n",
    "\n",
    "For every sequence there are four lines. The first one is a header that contains a unique sequence ID, the second is the sequence itself, the third one is a blankline marked by `+`, and the fourth one is the quality information derived from basecalling as so-called _Q-Score_. \n",
    "\n",
    "The Q-score represents the error probability and is represented by ASCII characters.\n",
    "\n",
    "P = 10<sup>-Q/10</sup>\n",
    "\n",
    "Q = -10 log<sub>10</sub>(P)\n",
    "\n",
    "The below gives you an idea what the different characters are standing for, `!` refers for instance to Q-score of 0, which translates into a 100% probability that the basecall is incorrect. A Q-score of 10 translates for instance into an error probality of 1%. \n",
    "\n",
    "![Q-scores](img/qscores.gif)  \n",
    "<font size=\"2\"> What are Q-scores? © Robert Edgar, _drive5.com_</font>\n",
    "\n",
    "<div class=\"alert alert-block alert-warning\">\n",
    "<b>QUESTION/TASK:</b> \n",
    "What do you think, what is commonly considered as \"good\" quality when it comes to Q-scores?!\n",
    "</div>\n",
    "\n",
    "### Hands-on\n",
    "OK, we now want to assess the quality of our sequencing data set. For that, we use a tool that is called [`FastQC`](https://www.bioinformatics.babraham.ac.uk/projects/fastqc/). `FastQC` generates reports that summarize various aspects that are relevant for assessing sequence quality. Exemplary reports for good and bad sequence data sets are given [here](https://www.bioinformatics.babraham.ac.uk/projects/fastqc/good_sequence_short_fastqc.html) and [here](https://www.bioinformatics.babraham.ac.uk/projects/fastqc/bad_sequence_fastqc.html).\n",
    "\n",
    "Have a look at them, in parallel have a look at the [`FastQC`documentation](https://www.bioinformatics.babraham.ac.uk/projects/fastqc/Help/) that is also available online, which explains the individual panes that you see in the reports.\n",
    "\n",
    "<div class=\"alert alert-block alert-warning\">\n",
    "<b>QUESTION/TASK:</b> \n",
    "Run FastQC over the three example datasets and inspect the resulting reports. Are we dealing with good or bad data?!\n",
    "</div>"
   ]
  },
  {
   "cell_type": "code",
   "execution_count": null,
   "id": "3def372a-198f-447a-8f71-cfe71e208e9e",
   "metadata": {},
   "outputs": [],
   "source": [
    "# Let's first call FastQC's help to figure out how to run it\n",
    "# We move to the practical course directory, check where we are\n",
    "# and call fastqc\n",
    "fastqc -h"
   ]
  },
  {
   "cell_type": "code",
   "execution_count": 11,
   "id": "ae97a0d0-23be-46be-89d3-98274e2aaf27",
   "metadata": {},
   "outputs": [
    {
     "name": "stdout",
     "output_type": "stream",
     "text": [
      "/home/lu87neb/data/MBGW223/01_QAQC\n"
     ]
    }
   ],
   "source": [
    "# OK, that's straightforward, we just have to specify the sequence data files that we want to check.\n",
    "# Note, we use \"*\" as placeholder here, as a result FastQC runs over all .fastq files present in the\n",
    "# current directory.\n",
    "# You could also run FastQC six times, over each file individually, but who wants that?!\n",
    "cd ~/data/MBGW223/01_QAQC\n",
    "pwd\n",
    "# fastqc *.fastq"
   ]
  },
  {
   "cell_type": "code",
   "execution_count": 10,
   "id": "5df89cc2-82d3-4efc-99ad-6669b9d28701",
   "metadata": {},
   "outputs": [
    {
     "name": "stdout",
     "output_type": "stream",
     "text": [
      "total 183M\n",
      "-rw-rw-r-- 1 lu87neb lu87neb  11M Aug  7 12:24 example_2_R1.fastq\n",
      "-rw-rw-r-- 1 lu87neb lu87neb  11M Aug  7 12:24 example_2_R2.fastq\n",
      "-rw-rw-r-- 1 lu87neb lu87neb  18M Aug  7 12:24 example_1_R2.fastq\n",
      "-rw-rw-r-- 1 lu87neb lu87neb  61M Aug  7 12:24 example_3_R2.fastq\n",
      "-rw-rw-r-- 1 lu87neb lu87neb  18M Aug  7 12:24 example_1_R1.fastq\n",
      "-rw-rw-r-- 1 lu87neb lu87neb  61M Aug  7 12:24 example_3_R1.fastq\n",
      "-rw-rw-r-- 1 lu87neb lu87neb 302K Aug 23 08:52 \u001b[0m\u001b[01;31mexample_1_R1_fastqc.zip\u001b[0m\n",
      "-rw-rw-r-- 1 lu87neb lu87neb 530K Aug 23 08:52 example_1_R1_fastqc.html\n",
      "-rw-rw-r-- 1 lu87neb lu87neb 311K Aug 23 08:52 \u001b[01;31mexample_1_R2_fastqc.zip\u001b[0m\n",
      "-rw-rw-r-- 1 lu87neb lu87neb 537K Aug 23 08:52 example_1_R2_fastqc.html\n",
      "-rw-rw-r-- 1 lu87neb lu87neb 361K Aug 23 08:52 \u001b[01;31mexample_2_R1_fastqc.zip\u001b[0m\n",
      "-rw-rw-r-- 1 lu87neb lu87neb 597K Aug 23 08:52 example_2_R1_fastqc.html\n",
      "-rw-rw-r-- 1 lu87neb lu87neb 359K Aug 23 08:52 \u001b[01;31mexample_2_R2_fastqc.zip\u001b[0m\n",
      "-rw-rw-r-- 1 lu87neb lu87neb 598K Aug 23 08:52 example_2_R2_fastqc.html\n",
      "-rw-rw-r-- 1 lu87neb lu87neb 793K Aug 23 08:52 \u001b[01;31mexample_3_R1_fastqc.zip\u001b[0m\n",
      "-rw-rw-r-- 1 lu87neb lu87neb 921K Aug 23 08:52 example_3_R1_fastqc.html\n",
      "-rw-rw-r-- 1 lu87neb lu87neb 821K Aug 23 08:52 \u001b[01;31mexample_3_R2_fastqc.zip\u001b[0m\n",
      "-rw-rw-r-- 1 lu87neb lu87neb 942K Aug 23 08:52 example_3_R2_fastqc.html\n"
     ]
    }
   ],
   "source": [
    "# Let's see how the content of our current working directory changed.\n",
    "ls -lrth"
   ]
  },
  {
   "cell_type": "markdown",
   "id": "3f226211-c168-41e9-8058-50864771dfdb",
   "metadata": {},
   "source": [
    "For every `.fastq` we obtained two files, `.zip` archive and an `.html` file, the latter represent the reports generated by FastQC, which we will now check out.\n",
    "\n",
    "Download the six `.html` files. Below, we go through the report of example (1)."
   ]
  },
  {
   "cell_type": "markdown",
   "id": "d389d0c5-4505-4674-ba36-6f6b3d7e53e9",
   "metadata": {},
   "source": [
    "### A closer look at Example (1)\n",
    "\n",
    "We only look at the report for the file containing the forward reads `example_1_R1.fastq`.\n"
   ]
  },
  {
   "cell_type": "markdown",
   "id": "83ac2ee3-24b8-435a-9e37-0d5f730f8504",
   "metadata": {},
   "source": [
    "`FastQC` reports begin always with basic statistics regarding the corresponding file. The statistics are followed by a bunch of informative plots that summarize the checks carried out by `FastQC`.\n",
    "\n",
    "#### Per base sequence quality\n",
    "\n",
    "![Per base sequence quality Example 1](img/per_base_seq_qual.png)\n",
    "\n",
    "This plot shows us the quality score distribution for all (forward) sequences of the dataset over the whole sequence length. This score should be as high as possible and only start to drop at the of the sequence. This drop in quality at the end of the sequence is more pronounced when looking at reverse reads, which is simply a consequence of the enzymes used for sequencing being wasted.\n",
    "\n",
    "#### Per tile sequence quality\n",
    "\n",
    "![Per tile sequence quality Example 1](img/per_tile_seq_qual.png)\n",
    "\n",
    "\"Real\" Illumina sequencing data sets include in the read headers information about the location of the respective template DNA molecule on the flowcell. The flowcell is divided into different tiles. This plot shows if there have been sudden drops in sequencing quality in certain areas of the flowcell, which can be a consequence of air bubbles or debris in the fluidic system.\n",
    "\n",
    "#### Per sequence quality scores\n",
    "\n",
    "![Per sequence quality scores Example 1](img/per_seq_qual_score.png)\n",
    "\n",
    "The quality score distribution over all sequences allows you to assess if subsets of your sequences have unexpectedly low quality scores. Ideally, you want to see one sharp peak on the right.\n",
    "\n",
    "#### Per base sequence content\n",
    "\n",
    "![Per base sequence content Example 1](img/per_seq_base_content.png)\n",
    "\n",
    "Here we see the proportion of each base over the length of the sequences. In the case of genomic DNA, one would expect four nearly parallel lines, with the different proportions reflecting the GC content of the original genome. The presence of sequencing primers/adapters, which artificially skew the proportions of the bases, is well visible in this plot and helps with finding parameters for trimming. Please note, that certain library types (imagine amplicon sequencing or RNAseq) will produce highly biased sequence composition patterns.\n",
    "\n",
    "#### Per sequence GC content\n",
    "\n",
    "![Per sequence GC content Example 1](img/per_seq_GC_content.png)\n",
    "\n",
    "This plot summarizes the GC content over the whole length of all sequences analyzed. This analysis typically yields a bell-shaped normal distribution. Unexpected sharp peaks indicate the presence of contaminating/overrepresented sequences such as adapters or primers.\n",
    "\n",
    "#### Per base N content\n",
    "\n",
    "![Per base N content Example 1](img/per_base_N.png)\n",
    "\n",
    "Here we see the percentage of failed base calls over the length of all sequences.\n",
    "\n",
    "#### Sequence length distribution\n",
    "\n",
    "![Sequence length distribution Example 1](img/seq_length_dist.png)\n",
    "\n",
    "Illumina sequencing platforms generate sequence fragments of uniform length. As a result, we typically see one sharp peak. After sequence data pre-processing, the sequence length is usually not longer uniform.\n",
    "\n",
    "#### Sequence duplication levels\n",
    "\n",
    "![Sequence duplication levels Example 1](img/seq_dupl.png)\n",
    "\n",
    "This analysis yields insights into the duplication level of every sequence in a dataset. In a random library, the degree of duplication is usually low, while levels are significantly higher when looking for instance at amplicon sequencing datasets.\n",
    "\n",
    "#### Adapter content\n",
    "\n",
    "![Adapter content Example 1](img/overrep_seqs.png)\n",
    "\n",
    "Pretty self-explainatory, adapters and other artificial sequences introduced during library preparation are potentially still present.\n",
    "\n",
    "<div class=\"alert alert-block alert-warning\">\n",
    "<b>QUESTION/TASK:</b> \n",
    "Check out the FastQC reports for the other two examples, how do they compare to example (1)?\n",
    "</div>"
   ]
  },
  {
   "cell_type": "markdown",
   "id": "cea6344d-ef47-45dd-b1d5-724b4bf977c3",
   "metadata": {},
   "source": [
    "### Summary\n",
    "We\n",
    "* recapped the differences between .fasta and .fastq files,\n",
    "* took a look at the concept behind quality scores,\n",
    "* and generated and looked at QA/QC reports from three examples datasets!\n",
    "\n",
    "<sub> © Carl-Eric Wegner, 2023-08 </sub>"
   ]
  }
 ],
 "metadata": {
  "kernelspec": {
   "display_name": "Bash",
   "language": "bash",
   "name": "bash"
  },
  "language_info": {
   "codemirror_mode": "shell",
   "file_extension": ".sh",
   "mimetype": "text/x-sh",
   "name": "bash"
  }
 },
 "nbformat": 4,
 "nbformat_minor": 5
}
